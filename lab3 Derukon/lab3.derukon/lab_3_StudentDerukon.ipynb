{
 "cells": [
  {
   "cell_type": "markdown",
   "id": "b45b3aac-410a-4410-bfb0-d088c97f1db9",
   "metadata": {},
   "source": [
    "# Лабораторна робота №3. Змінні. Базові операції вводу/виводу\n"
   ]
  },
  {
   "cell_type": "markdown",
   "id": "3e89c179-84d2-4d1c-b474-08aa92abc058",
   "metadata": {},
   "source": [
    "__Мета:__ _освоїти роботу зі змінними та операції вводу і виводу_"
   ]
  },
  {
   "cell_type": "markdown",
   "id": "3aa80939-c008-4a9c-bc3e-b1d56f465980",
   "metadata": {},
   "source": [
    "## Cамостiйна Робота"
   ]
  },
  {
   "cell_type": "markdown",
   "id": "9d1605a0-4ee7-4451-b999-6da4c6ea808d",
   "metadata": {},
   "source": [
    "### Завдання № 1"
   ]
  },
  {
   "cell_type": "markdown",
   "id": "05a53262-4e8d-4851-bead-1a0cbd515780",
   "metadata": {},
   "source": [
    "Написати програму, яка обчислює значення функції Гауса: \n",
    "$$f(x) = \\frac{1}{\\sigma \\sqrt{2 \\pi}} e^{-\\frac{(x-\\mu)^2}{2\\sigma^2}}$$"
   ]
  },
  {
   "cell_type": "markdown",
   "id": "5f156f13-2f11-4af4-b8c5-39116ed24ef9",
   "metadata": {},
   "source": [
    "Приклад коду: "
   ]
  },
  {
   "cell_type": "code",
   "execution_count": 35,
   "id": "be81379e-8410-4a1c-8ecc-0222df45d5f8",
   "metadata": {},
   "outputs": [
    {
     "name": "stdout",
     "output_type": "stream",
     "text": [
      "Значення функції Гауса: 0.24197072451914337\n"
     ]
    }
   ],
   "source": [
    "import math\n",
    "\n",
    "def gaussian_function(x, mu, sigma):\n",
    "    coefficient = 1 / math.sqrt(2 * math.pi * sigma**2)\n",
    "    exponent = -(x - mu)**2 / (2 * sigma**2)\n",
    "    result = coefficient * math.exp(exponent)\n",
    "    return result\n",
    "\n",
    "# Приклад виклику функції зі значеннями x = 1, mu = 0 і sigma = 1\n",
    "x = 1\n",
    "mu = 0\n",
    "sigma = 1\n",
    "gaussian_value = gaussian_function(x, mu, sigma)\n",
    "print(\"Значення функції Гауса:\", gaussian_value)"
   ]
  },
  {
   "cell_type": "markdown",
   "id": "7f9b192e-dba8-40e4-9827-c2f0d83fdc56",
   "metadata": {},
   "source": [
    "###  Завдання № 2"
   ]
  },
  {
   "cell_type": "markdown",
   "id": "d9c8c6da-7c0a-4080-9bcd-ad1b34b7e6fa",
   "metadata": {},
   "source": [
    "Якось Джон (John) мав три яблука, Мері (Mary) мала п'ять яблук, а Адам (Adam) мав шість яблук. Усі вони були дуже щасливі та жили довго. Кінець історії.\n",
    "\n",
    "Ваше завдання полягає в тому, щоб\n",
    "\n",
    "* створіть змінні: `john`, `mary`, і `adam`;\n",
    "\n",
    "* надайте значення змінним. Значення повинні дорівнювати кількості фруктів, якими володіють Джон, Мері, і Адам відповідно;\n",
    "\n",
    "* зберігши числа в змінних, виведіть змінні в один рядок і розділіть їх комами;\n",
    "\n",
    "* тепер створіть нову змінну з ім'ям `totalApple`` рівну сумі трьох попередніх змінних;\n",
    "\n",
    "* вивести значення, збережене в `totalapples`, в консоль;\n",
    "\n",
    "* надрукувати рядок та ціле число разом в одному рядку, наприклад, \"Загальна кількість яблук:\" та `total_apples`|."
   ]
  },
  {
   "cell_type": "markdown",
   "id": "73876c64-dab9-4cdb-ae24-30a2a6224560",
   "metadata": {},
   "source": [
    "Приклад коду:"
   ]
  },
  {
   "cell_type": "code",
   "execution_count": 36,
   "id": "40e2c656-5f2b-4c4b-b3fe-b70aca5c9353",
   "metadata": {},
   "outputs": [
    {
     "name": "stdout",
     "output_type": "stream",
     "text": [
      "3, 5, 6\n",
      "\n",
      "14\n",
      "\n",
      "Загальна кількість яблук: 14\n"
     ]
    }
   ],
   "source": [
    "john = 3\n",
    "mary = 5\n",
    "adam = 6\n",
    "\n",
    "print(f\"{john}, {mary}, {adam}\\n\")\n",
    "\n",
    "totalApple = sum([john, mary, adam])\n",
    "print(f\"{totalApple}\\n\")\n",
    "\n",
    "print(\"Загальна кількість яблук:\", totalApple)"
   ]
  },
  {
   "cell_type": "markdown",
   "id": "bf5154db-116d-4514-92ed-8a62b8e8782e",
   "metadata": {},
   "source": [
    "###  Завдання № 3"
   ]
  },
  {
   "cell_type": "markdown",
   "id": "c734b3cd-4f96-48e2-80b2-c289a7a861c4",
   "metadata": {},
   "source": [
    "Милі та кілометри – це одиниці довжини або відстані.\n",
    "\n",
    "Враховуючи, що 1 миля дорівнює приблизно 1.61 кілометрам, заповніть програму в редакторі, щоб вона перетворила:\n",
    "\n",
    "* милі у кілометри;\n",
    "\n",
    "* кілометри на милі.\n",
    "\n",
    "Не змінюйте нічого в існуючому коді. Напишіть свій код у місцях, вказаних ###. Протестуйте вашу програму з даними, які надано у вихідному коді.\n",
    "\n",
    "Зверніть особливу увагу на те, що відбувається всередині функції `print()`. Проаналізуйте, як ми надаємо кілька аргументів функції та як ми виводимо очікувані дані.\n",
    "\n",
    "Зауважте, що деякі аргументи всередині функції `print()` є рядками (наприклад, `\"miles is\"`, тоді як деякі інші є змінними (наприклад, `miles`)."
   ]
  },
  {
   "cell_type": "markdown",
   "id": "fa40039b-9812-4642-84a7-707b0c3f90f2",
   "metadata": {},
   "source": [
    "Приклад коду:"
   ]
  },
  {
   "cell_type": "code",
   "execution_count": 37,
   "id": "3c5eafa0-ba19-423c-9fac-26e87e5b2a52",
   "metadata": {},
   "outputs": [
    {
     "name": "stdout",
     "output_type": "stream",
     "text": [
      "7.38 miles is 11.88 kilometers\n",
      "\n",
      "12.25 kilometers is 7.61 miles\n",
      "\n"
     ]
    }
   ],
   "source": [
    "kilometers = 12.25\n",
    "miles = 7.38\n",
    "\n",
    "miles_to_kilometers = round(miles * 1.61, 2)\n",
    "kilometers_to_miles = round(kilometers / 1.61, 2)\n",
    "\n",
    "print(f\"{miles} miles is {miles_to_kilometers} kilometers\\n\")\n",
    "print(f\"{kilometers} kilometers is {kilometers_to_miles} miles\\n\")"
   ]
  },
  {
   "cell_type": "markdown",
   "id": "08f6c227-6de9-4579-afc1-4d7bb18a80d5",
   "metadata": {},
   "source": [
    "###  Завдання № 4"
   ]
  },
  {
   "cell_type": "markdown",
   "id": "66667f29-a7e2-442a-bb04-c0a0cfcb471e",
   "metadata": {},
   "source": [
    "Подивіться код у редакторі: він читає \"плаваюче\" значення, поміщає його у змінну з ім'ям `x`, і друкує значення змінної з ім'ям `y`. Ваше завдання - завершити код, щоб оцінити такий вираз:\n",
    "\n",
    "$$3x^3 - 2x^2 + 3^x - 1$$\n",
    "\n",
    "Результат має бути присвоєний `y`."
   ]
  },
  {
   "cell_type": "markdown",
   "id": "af5014bb-97df-49f3-a7db-f03646f39f63",
   "metadata": {},
   "source": [
    "Приклад коду:"
   ]
  },
  {
   "cell_type": "code",
   "execution_count": 38,
   "id": "9db241da-d231-4d7a-bf41-fd8dc3e945b0",
   "metadata": {},
   "outputs": [
    {
     "name": "stdin",
     "output_type": "stream",
     "text": [
      "Введіть х:  3\n"
     ]
    },
    {
     "name": "stdout",
     "output_type": "stream",
     "text": [
      "89.0\n"
     ]
    }
   ],
   "source": [
    "x = float(input(\"Введіть х: \"))\n",
    "y = 3 * x ** 3 - 2 * x ** 2 + 3 ** x - 1\n",
    "print(y)"
   ]
  },
  {
   "cell_type": "markdown",
   "id": "74003ef2-6463-4ba5-95cc-e84a56e5242d",
   "metadata": {},
   "source": [
    "###  Завдання № 5"
   ]
  },
  {
   "cell_type": "markdown",
   "id": "eba22d3d-1273-49b4-8493-ceefb77b8ed8",
   "metadata": {},
   "source": [
    "Код редактора містить коментарі. Спробуйте покращити його: додайте або видаліть коментарі там, де ви вважаєте це доречним (так, іноді видалення коментаря може зробити код більш читабельним) і змініть імена змінних там, де, на вашу думку, це покращить розуміння коду."
   ]
  },
  {
   "cell_type": "code",
   "execution_count": 19,
   "id": "d4cafe45-3907-46b1-8c6d-ce9617e3d7ab",
   "metadata": {},
   "outputs": [
    {
     "name": "stdout",
     "output_type": "stream",
     "text": [
      "Hours:  2\n"
     ]
    }
   ],
   "source": [
    "# this program computes the number of seconds in a given number of hours\n",
    "# this program has been written two days ago\n",
    "\n",
    "a = 2 # number of hours\n",
    "seconds = 3600 # number of seconds in 1 hour\n",
    "\n",
    "print(\"Hours: \", a) #printing the number of hours\n",
    "# print(\"Seconds in Hours: \", a * seconds) # printing the number of seconds in a given number of hours\n",
    "\n",
    "#here we should also print \"Goodbye\", but a programmer didn't have time to write any code\n",
    "#this is the end of the program that computes the number of seconds in 3 hour"
   ]
  },
  {
   "cell_type": "markdown",
   "id": "98139c65-970d-4097-93aa-d3f573aceccf",
   "metadata": {},
   "source": [
    "Приклад коду:"
   ]
  },
  {
   "cell_type": "code",
   "execution_count": 20,
   "id": "0dc9a1ae-ca1b-4f59-9305-f4d85dd24334",
   "metadata": {},
   "outputs": [
    {
     "name": "stdout",
     "output_type": "stream",
     "text": [
      "Hours: 2\n",
      "Seconds in Hours: 7200\n",
      "Goodbye\n"
     ]
    }
   ],
   "source": [
    "# This program computes the number of seconds in a given number of hours\n",
    "\n",
    "hours = 2  # Number of hours\n",
    "seconds_per_hour = 3600  # Number of seconds in 1 hour\n",
    "\n",
    "print(\"Hours:\", hours)  # Printing the number of hours\n",
    "print(\"Seconds in Hours:\", hours * seconds_per_hour)  # Printing the number of seconds in a given number of hours\n",
    "print(\"Goodbye\")\n",
    "\n",
    "# This is the end of the program that computes the number of seconds in 3 hours"
   ]
  },
  {
   "cell_type": "markdown",
   "id": "1898c160-3c77-4fa4-9d91-713d46b1adcc",
   "metadata": {},
   "source": [
    "### Завдання № 6 "
   ]
  },
  {
   "cell_type": "markdown",
   "id": "f33a766d-6364-4c63-a7a0-0af012d0e65e",
   "metadata": {},
   "source": [
    "Ваше завдання – завершити код, щоб отримати результати чотирьох основних арифметичних операцій.\n",
    "\n",
    "Результати мають бути виведені у консолі.\n",
    "\n",
    "Можливо, ви не зможете захистити код від користувача, який хоче ділити на нуль. Пізніше ми взнаємо, як це зробити."
   ]
  },
  {
   "cell_type": "code",
   "execution_count": 21,
   "id": "7a3dcd88-138b-4975-8512-5953e3e3c771",
   "metadata": {},
   "outputs": [
    {
     "name": "stdout",
     "output_type": "stream",
     "text": [
      "\n",
      "That's all, folks!\n"
     ]
    }
   ],
   "source": [
    "# input a float value for variable a here\n",
    "# input a float value for variable b here\n",
    "\n",
    "# output the result of addition here\n",
    "# output the result of subtraction here\n",
    "# output the result of multiplication here\n",
    "# output the result of division here\n",
    "\n",
    "print(\"\\nThat's all, folks!\")"
   ]
  },
  {
   "cell_type": "markdown",
   "id": "93679515-ba58-490d-90ef-9833d771d1a5",
   "metadata": {},
   "source": [
    "Приклад коду:"
   ]
  },
  {
   "cell_type": "code",
   "execution_count": 23,
   "id": "ac8f5196-82c8-4d9f-ba63-0869b782161c",
   "metadata": {},
   "outputs": [
    {
     "name": "stdin",
     "output_type": "stream",
     "text": [
      "Введіть a:  1\n",
      "Введіть b:  8\n"
     ]
    },
    {
     "name": "stdout",
     "output_type": "stream",
     "text": [
      "Результат додавання двох чисел дорівнює = 9.0\n",
      "Результат віднімання двох чисел дорівнює = -7.0\n",
      "Результат множення двох чисел дорівнює = 8.0\n",
      "Результат ділення двох чисел дорівнює = 0.125\n",
      "\n",
      "That's all, folks!\n"
     ]
    }
   ],
   "source": [
    "a = float(input(\"Введіть a: \"))\n",
    "b = float(input(\"Введіть b: \"))\n",
    "\n",
    "print(\"Результат додавання двох чисел дорівнює =\", a + b)\n",
    "print(\"Результат віднімання двох чисел дорівнює =\", a - b)\n",
    "print(\"Результат множення двох чисел дорівнює =\", a * b)\n",
    "print(\"Результат ділення двох чисел дорівнює =\", a / b)\n",
    "\n",
    "print(\"\\nThat's all, folks!\")\n"
   ]
  },
  {
   "cell_type": "markdown",
   "id": "f7f2929c-0e19-4c66-8f29-09e8246d7331",
   "metadata": {},
   "source": [
    "### Завдання № 7 "
   ]
  },
  {
   "cell_type": "markdown",
   "id": "6e3e687f-8178-4685-9dcd-3b3fdb64cc45",
   "metadata": {},
   "source": [
    "Ваше завдання -- завершити код, щоб оцінити такий вираз:\n",
    "$$\\frac{1}{x + \\frac{1}{x + \\frac{1}{x + \\frac{1}{x + \\frac{1}{x}}}}}$$\n",
    "\n",
    "\n",
    "Результат має бути присвоєний `y`.\n",
    "\n",
    "Ви можете використовувати додаткові змінні для зменшення виразу (але це не обов'язково). Ретельно тестуйте свій код."
   ]
  },
  {
   "cell_type": "code",
   "execution_count": 24,
   "id": "7f0e4a42-3ef5-454e-a1ce-5be1b2c10c22",
   "metadata": {},
   "outputs": [],
   "source": [
    "# x = float(input(\"Enter value for x: \"))\n",
    "\n",
    "# put your code here\n",
    "\n",
    "# print(\"y =\", y)"
   ]
  },
  {
   "cell_type": "markdown",
   "id": "6b481957-7625-4e45-8bed-25e33f2a4965",
   "metadata": {},
   "source": [
    "Приклад коду:"
   ]
  },
  {
   "cell_type": "code",
   "execution_count": 26,
   "id": "14d66dba-b100-4892-9f8f-07cbccc3afbf",
   "metadata": {},
   "outputs": [
    {
     "name": "stdin",
     "output_type": "stream",
     "text": [
      "Введіть значення x:  2\n"
     ]
    },
    {
     "name": "stdout",
     "output_type": "stream",
     "text": [
      "Результат виразу: 0.4142857142857143\n"
     ]
    }
   ],
   "source": [
    "x = float(input(\"Введіть значення x: \"))\n",
    "\n",
    "# Обчислення виразу\n",
    "y = 1 / (x + 1 / (x + 1 / (x + 1 / (x + 1 / x))))\n",
    "\n",
    "# Виведення результату\n",
    "print(\"Результат виразу:\", y)"
   ]
  },
  {
   "cell_type": "markdown",
   "id": "4cf77e91-e269-4ed9-bccf-6923737d163a",
   "metadata": {},
   "source": [
    "### Завдання № 8"
   ]
  },
  {
   "cell_type": "markdown",
   "id": "4b0bc9eb-dd6a-4cce-b3ce-faeb65110164",
   "metadata": {},
   "source": [
    "Ваше завдання - підготувати простий код, здатний порахувати час закінчення періоду часу, вираженого в кількості хвилин (воно може бути як завгодно великим). Час початку вказується у вигляді пари годин (0..23) та хвилин (0..59). Результат повинен бути надрукований на консолі.\n",
    "\n",
    "Наприклад, якщо подія починається о __12:17__ і триває __59__ хвилин, вона закінчується о __13:16__.\n",
    "\n",
    "Не турбуйтеся про будь-які недоліки у вашому коді –- це нормально, якщо він приймає неприпустимий час -– найважливіше, що код видає дійсні результати для правильних вхідних даних.\n",
    "\n",
    "Ретельно перевірте код. Підказка: використання оператора `%` може бути ключем до успіху."
   ]
  },
  {
   "cell_type": "code",
   "execution_count": 27,
   "id": "442f2e3c-388f-4218-9ba9-5f1d7acf104d",
   "metadata": {},
   "outputs": [],
   "source": [
    "# hour = int(input(\"Starting time (hours): \"))\n",
    "# mins = int(input(\"Starting time (minutes): \"))\n",
    "# dura = int(input(\"Event duration (minutes): \"))\n",
    "\n",
    "# put your code here"
   ]
  },
  {
   "cell_type": "markdown",
   "id": "894bcf9e-8210-4e52-b210-21a501886a7a",
   "metadata": {},
   "source": [
    "Приклад коду:"
   ]
  },
  {
   "cell_type": "code",
   "execution_count": 32,
   "id": "296c8a4e-3706-4928-a398-75cb5bd77ce0",
   "metadata": {},
   "outputs": [
    {
     "name": "stdin",
     "output_type": "stream",
     "text": [
      "Початковий час (години):  23\n",
      "Початковий час (хвилини):  58\n",
      "Тривалість події (хвилини):  642\n"
     ]
    },
    {
     "name": "stdout",
     "output_type": "stream",
     "text": [
      "Подія закінчується о 10 : 40\n"
     ]
    }
   ],
   "source": [
    "hour = int(input(\"Початковий час (години): \"))\n",
    "mins = int(input(\"Початковий час (хвилини): \"))\n",
    "dura = int(input(\"Тривалість події (хвилини): \"))\n",
    "\n",
    "# Обчислюємо загальну кількість хвилин\n",
    "total_mins = hour * 60 + mins + dura\n",
    "\n",
    "# Обчислюємо години та хвилини закінчення події\n",
    "end_hour = (total_mins // 60) % 24\n",
    "end_mins = total_mins % 60\n",
    "\n",
    "# Форматуємо рядки з годинами та хвилинами для відображення двоцифрового формату\n",
    "end_hour_str = str(end_hour).zfill(2)\n",
    "end_mins_str = str(end_mins).zfill(2)\n",
    "\n",
    "# Виводимо результат\n",
    "print(\"Подія закінчується о\", end_hour_str, \":\", end_mins_str)"
   ]
  },
  {
   "cell_type": "markdown",
   "id": "c0737e25-acd9-4f4b-8838-0837bdec9bd7",
   "metadata": {},
   "source": [
    "### Контрольні запитання"
   ]
  },
  {
   "cell_type": "markdown",
   "id": "81b9ac19-c4bf-442b-a2d1-3d2142dfd450",
   "metadata": {},
   "source": [
    "__1__ _Якщо користувач введе число 2, то вивід наступного фрагмента коду буде: 55_\n",
    "\n",
    "_В даному фрагменті коду використовується оператор множення (`*`), який множить рядок `\"5\"` на введене число `x`. Оскільки `x` дорівнює 2, рядок `\"5\"` буде повторений два рази, що призведе до виводу `\"55\"`._"
   ]
  },
  {
   "cell_type": "markdown",
   "id": "ee84aea2-f080-4195-9383-1249d9a799cc",
   "metadata": {},
   "source": [
    "__2__ _Якщо користувач введе число 2, то очікуваний результат наступного фрагмента коду буде:_ <class 'str'>\n",
    "\n",
    "_У цьому фрагменті коду використовується функція `input()`, яка отримує введені користувачем дані у вигляді рядкового значення (string). Незалежно від того, яке значення ввів користувач, функція `input()` повертає рядкове значення._\n",
    "\n",
    "_Функція `type()` використовується для визначення типу об'єкта. В даному випадку, вона виведе `<class 'str'>`, що означає, що введене значення збережене як рядок (string)._\n"
   ]
  }
 ],
 "metadata": {
  "kernelspec": {
   "display_name": "Python 3 (ipykernel)",
   "language": "python",
   "name": "python3"
  },
  "language_info": {
   "codemirror_mode": {
    "name": "ipython",
    "version": 3
   },
   "file_extension": ".py",
   "mimetype": "text/x-python",
   "name": "python",
   "nbconvert_exporter": "python",
   "pygments_lexer": "ipython3",
   "version": "3.10.9"
  }
 },
 "nbformat": 4,
 "nbformat_minor": 5
}
