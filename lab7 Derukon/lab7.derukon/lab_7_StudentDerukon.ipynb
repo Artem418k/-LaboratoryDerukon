{
 "cells": [
  {
   "cell_type": "markdown",
   "id": "a5081f1a-003f-4c9c-abbc-6dc3ab4ab353",
   "metadata": {},
   "source": [
    "# Лабораторна робота №7. Словники, кортежі. Обробка винятків (empty)"
   ]
  },
  {
   "cell_type": "markdown",
   "id": "859fde72-c748-4642-af64-5f9bd1c30dae",
   "metadata": {},
   "source": [
    "__Мета:__ _навчитися працювати зі структурами даних Кортеж та Словник. Навчитись обробляти основні типи винятків_"
   ]
  },
  {
   "cell_type": "markdown",
   "id": "437ef588-4952-40ec-83e8-caab1a8a2c62",
   "metadata": {},
   "source": [
    "### Самостiйна робота"
   ]
  },
  {
   "cell_type": "markdown",
   "id": "38efad21-4804-4907-be63-fa5c287c1572",
   "metadata": {},
   "source": [
    "### Завдання 1"
   ]
  },
  {
   "cell_type": "markdown",
   "id": "38d0d43f-9dc3-49e2-b324-7abf9b371ef4",
   "metadata": {},
   "source": [
    "Напишіть програму, яка створює кортеж зі списку чисел, а потім виводить на екран всі числа, які менші за задане число `n`. Умова: користувач вводить число `n`, і   щоб створити новий список `result`, який містить всі числа з кортежу, які менші за `n`, реалізувати за допомогою генератора списків."
   ]
  },
  {
   "cell_type": "markdown",
   "id": "dbe600e3-2f89-4dc2-890a-e4e8dfe5c907",
   "metadata": {},
   "source": [
    "Приклад коду: "
   ]
  },
  {
   "cell_type": "code",
   "execution_count": 3,
   "id": "5c1361f6-110f-4bae-8717-1521d7ba68d7",
   "metadata": {},
   "outputs": [
    {
     "name": "stdin",
     "output_type": "stream",
     "text": [
      "Введіть числа, розділені пробілами:  1 2 3 4 5 6 7 8 9\n",
      "Введіть число n:  5\n"
     ]
    },
    {
     "name": "stdout",
     "output_type": "stream",
     "text": [
      "Числа менші за n: [1, 2, 3, 4]\n"
     ]
    }
   ],
   "source": [
    "def create_tuple(numbers):\n",
    "    return tuple(numbers)\n",
    "\n",
    "def filter_numbers(tuple_numbers, n):\n",
    "    result = [x for x in tuple_numbers if x < n]\n",
    "    return result\n",
    "\n",
    "# Введення чисел користувачем\n",
    "numbers = input(\"Введіть числа, розділені пробілами: \").split()\n",
    "numbers = [int(num) for num in numbers]\n",
    "\n",
    "# Створення кортежу зі списку чисел\n",
    "tuple_numbers = create_tuple(numbers)\n",
    "\n",
    "# Введення числа n\n",
    "n = int(input(\"Введіть число n: \"))\n",
    "\n",
    "# Фільтрація чисел і виведення результату\n",
    "result = filter_numbers(tuple_numbers, n)\n",
    "print(\"Числа менші за n:\", result)\n"
   ]
  },
  {
   "cell_type": "markdown",
   "id": "a4801fd1-768f-4ec5-bc4a-77f5af171b2e",
   "metadata": {},
   "source": [
    "### Завдання 2"
   ]
  },
  {
   "cell_type": "markdown",
   "id": "1ea931fc-462e-4445-bc12-200608b52920",
   "metadata": {},
   "source": [
    "Напишіть програму, яка створює кортеж з трьох елементів, які є рядками, та з'єднує їх в один рядок з комою як роздільником. Примітка: з'єднати рядки також можна за допомогою методу `.joint()`"
   ]
  },
  {
   "cell_type": "markdown",
   "id": "51448ab2-9633-43fd-9631-f27f16c6c938",
   "metadata": {},
   "source": [
    "Приклад коду: "
   ]
  },
  {
   "cell_type": "code",
   "execution_count": 5,
   "id": "f6cb0b1f-830f-454c-aa03-1cdbfadc57d7",
   "metadata": {},
   "outputs": [
    {
     "name": "stdin",
     "output_type": "stream",
     "text": [
      "Введіть рядок 1:  plus minus rovno\n",
      "Введіть рядок 2:  f\n",
      "Введіть рядок 3:  f\n"
     ]
    },
    {
     "name": "stdout",
     "output_type": "stream",
     "text": [
      "З'єднаний рядок: plus minus rovno, f, f\n"
     ]
    }
   ],
   "source": [
    "def create_tuple(strings):\n",
    "    return tuple(strings)\n",
    "\n",
    "def join_strings(tuple_strings):\n",
    "    joined_string = ', '.join(tuple_strings)\n",
    "    return joined_string\n",
    "\n",
    "# Введення рядків користувачем\n",
    "strings = []\n",
    "for i in range(3):\n",
    "    string = input(f\"Введіть рядок {i+1}: \")\n",
    "    strings.append(string)\n",
    "\n",
    "# Створення кортежу зі списку рядків\n",
    "tuple_strings = create_tuple(strings)\n",
    "\n",
    "# З'єднання рядків з комою як роздільником\n",
    "joined_string = join_strings(tuple_strings)\n",
    "\n",
    "# Виведення результату\n",
    "print(\"З'єднаний рядок:\", joined_string)"
   ]
  },
  {
   "cell_type": "markdown",
   "id": "d5cd40f8-23b0-4772-a8ec-35dd44b50a95",
   "metadata": {},
   "source": [
    "### Завдання 3"
   ]
  },
  {
   "cell_type": "markdown",
   "id": "140d3de4-2669-4645-a766-86591e4213c3",
   "metadata": {},
   "source": [
    "Створіть словник, який містить інформацію про книги в бібліотеці. Ключами будуть назви книг, а значеннями - автори, рік видання та кількість сторінок. Виведіть на екран інформацію про книгу, введену користувачем."
   ]
  },
  {
   "cell_type": "markdown",
   "id": "2029c759-aabc-4fca-9248-6764af727ff6",
   "metadata": {},
   "source": [
    "Приклад коду: "
   ]
  },
  {
   "cell_type": "code",
   "execution_count": 7,
   "id": "aac0a862-37e9-4a9e-88a5-b427b78882c3",
   "metadata": {},
   "outputs": [
    {
     "name": "stdout",
     "output_type": "stream",
     "text": [
      "Назви книг у бібліотеці:\n",
      "Книга 1\n",
      "Книга 2\n",
      "Книга 3\n"
     ]
    },
    {
     "name": "stdin",
     "output_type": "stream",
     "text": [
      "Введіть назву книги:  Книга 1\n"
     ]
    },
    {
     "name": "stdout",
     "output_type": "stream",
     "text": [
      "Інформація про книгу:\n",
      "Автор: Автор 1\n",
      "Рік видання: 2020\n",
      "Кількість сторінок: 300\n"
     ]
    }
   ],
   "source": [
    "def create_library():\n",
    "    library = {\n",
    "        \"Книга 1\": {\n",
    "            \"Автор\": \"Автор 1\",\n",
    "            \"Рік видання\": 2020,\n",
    "            \"Кількість сторінок\": 300\n",
    "        },\n",
    "        \"Книга 2\": {\n",
    "            \"Автор\": \"Автор 2\",\n",
    "            \"Рік видання\": 2018,\n",
    "            \"Кількість сторінок\": 250\n",
    "        },\n",
    "        \"Книга 3\": {\n",
    "            \"Автор\": \"Автор 3\",\n",
    "            \"Рік видання\": 2019,\n",
    "            \"Кількість сторінок\": 400\n",
    "        }\n",
    "    }\n",
    "    return library\n",
    "\n",
    "def print_book_info(book_info):\n",
    "    print(\"Інформація про книгу:\")\n",
    "    print(f\"Автор: {book_info['Автор']}\")\n",
    "    print(f\"Рік видання: {book_info['Рік видання']}\")\n",
    "    print(f\"Кількість сторінок: {book_info['Кількість сторінок']}\")\n",
    "\n",
    "# Створення словника з інформацією про книги\n",
    "library = create_library()\n",
    "\n",
    "# Виведення назв книг\n",
    "print(\"Назви книг у бібліотеці:\")\n",
    "for book_title in library.keys():\n",
    "    print(book_title)\n",
    "\n",
    "# Введення назви книги користувачем\n",
    "book_title = input(\"Введіть назву книги: \")\n",
    "\n",
    "# Перевірка, чи введена книга є у бібліотеці\n",
    "if book_title in library:\n",
    "    book_info = library[book_title]\n",
    "    print_book_info(book_info)\n",
    "else:\n",
    "    print(\"Книга не знайдена.\")"
   ]
  },
  {
   "cell_type": "markdown",
   "id": "c2a7c379-1749-4ac0-bac8-1bbb2781335b",
   "metadata": {},
   "source": [
    "### Завдання 4"
   ]
  },
  {
   "cell_type": "markdown",
   "id": "654524f2-fb95-43f5-a473-0649baa18214",
   "metadata": {},
   "source": [
    "Напишіть програму, яка створює словник, що містить інформацію про студентів, використовуючи вказані кортежі в якості значень. Кожен ключ -- це прізвище студента. Виведіть на екран інформацію про студента, введеного користувачем."
   ]
  },
  {
   "cell_type": "markdown",
   "id": "faba49d1-052d-43bf-8e40-bd9a547b3e47",
   "metadata": {},
   "source": [
    "Приклад коду: "
   ]
  },
  {
   "cell_type": "code",
   "execution_count": 9,
   "id": "d504d95c-2947-4b56-92bb-90585b327ac6",
   "metadata": {},
   "outputs": [
    {
     "name": "stdout",
     "output_type": "stream",
     "text": [
      "Прізвища студентів:\n",
      "Петров\n",
      "Сидоров\n",
      "Іванова\n",
      "Смирнов\n"
     ]
    },
    {
     "name": "stdin",
     "output_type": "stream",
     "text": [
      "Введіть прізвище студента:  Петров\n"
     ]
    },
    {
     "name": "stdout",
     "output_type": "stream",
     "text": [
      "Інформація про студента:\n",
      "Ім'я: Іван\n",
      "Вік: 20\n",
      "Група: Група A\n"
     ]
    }
   ],
   "source": [
    "def create_students():\n",
    "    students = {\n",
    "        \"Петров\": (\"Іван\", 20, \"Група A\"),\n",
    "        \"Сидоров\": (\"Олексій\", 19, \"Група B\"),\n",
    "        \"Іванова\": (\"Анна\", 21, \"Група A\"),\n",
    "        \"Смирнов\": (\"Олег\", 18, \"Група C\")\n",
    "    }\n",
    "    return students\n",
    "\n",
    "def print_student_info(student_info):\n",
    "    print(\"Інформація про студента:\")\n",
    "    print(f\"Ім'я: {student_info[0]}\")\n",
    "    print(f\"Вік: {student_info[1]}\")\n",
    "    print(f\"Група: {student_info[2]}\")\n",
    "\n",
    "# Створення словника з інформацією про студентів\n",
    "students = create_students()\n",
    "\n",
    "# Виведення прізвищ студентів\n",
    "print(\"Прізвища студентів:\")\n",
    "for last_name in students.keys():\n",
    "    print(last_name)\n",
    "\n",
    "# Введення прізвища студента користувачем\n",
    "last_name = input(\"Введіть прізвище студента: \")\n",
    "\n",
    "# Перевірка, чи введений студент є у словнику\n",
    "if last_name in students:\n",
    "    student_info = students[last_name]\n",
    "    print_student_info(student_info)\n",
    "else:\n",
    "    print(\"Студент не знайдений.\")"
   ]
  },
  {
   "cell_type": "markdown",
   "id": "f9e64740-41a0-4758-ad64-f0a43ee32c34",
   "metadata": {},
   "source": [
    "### Завдання 5"
   ]
  },
  {
   "cell_type": "markdown",
   "id": "5a001949-8774-460f-9b1e-b00f2feea296",
   "metadata": {},
   "source": [
    "Створіть словник, який містить інформацію про більше, ніж один номер телефону для кожного з контактів в телефонній книзі. Ключами будуть імена контактів, а значеннями - список їхніх номерів телефонів. Напишіть функцію, яка дозволяє додати новий номер телефону до списку номерів телефону певного контакту. Потім виведіть на екран список номерів телефонів для всіх контактів."
   ]
  },
  {
   "cell_type": "markdown",
   "id": "5c632a58-ba87-4e4f-a7a3-0c3d712367c7",
   "metadata": {},
   "source": [
    "Приклад коду: "
   ]
  },
  {
   "cell_type": "code",
   "execution_count": 12,
   "id": "bed8d12a-9515-48b6-ad8e-926ea4a7f07c",
   "metadata": {},
   "outputs": [
    {
     "name": "stdout",
     "output_type": "stream",
     "text": [
      "Іванов: ['+380971234567', '+380991234567', '+380931234567']\n",
      "Петров: ['+380661234567', '+380631234567']\n",
      "Сидорова: ['+380501234567', '+380681234567', '+380731234567', '+380971234567']\n"
     ]
    }
   ],
   "source": [
    "def add_phone_number(contacts, contact_name, phone_number):\n",
    "    if contact_name in contacts:\n",
    "        contacts[contact_name].append(phone_number)\n",
    "    else:\n",
    "        contacts[contact_name] = [phone_number]\n",
    "\n",
    "def print_phone_numbers(contacts):\n",
    "    for contact_name, phone_numbers in contacts.items():\n",
    "        print(f\"{contact_name}: {phone_numbers}\")\n",
    "\n",
    "# Створення початкового словника контактів\n",
    "contacts = {\n",
    "    \"Іванов\": [\"+380971234567\", \"+380991234567\"],\n",
    "    \"Петров\": [\"+380661234567\"],\n",
    "    \"Сидорова\": [\"+380501234567\", \"+380681234567\", \"+380731234567\"]\n",
    "}\n",
    "\n",
    "# Додавання нових номерів телефонів до контактів\n",
    "add_phone_number(contacts, \"Іванов\", \"+380931234567\")\n",
    "add_phone_number(contacts, \"Петров\", \"+380631234567\")\n",
    "add_phone_number(contacts, \"Сидорова\", \"+380971234567\")\n",
    "\n",
    "# Виведення списку номерів телефонів для всіх контактів\n",
    "print_phone_numbers(contacts)"
   ]
  },
  {
   "cell_type": "markdown",
   "id": "926685dc-f664-489c-bfc7-4d3117ae7ab8",
   "metadata": {},
   "source": [
    "### Контрольні запитання"
   ]
  },
  {
   "cell_type": "markdown",
   "id": "ee218521-0c24-470b-8c69-0e699d5a7981",
   "metadata": {},
   "source": [
    "__1__ _Що виведе наступний код?_\n",
    "\n",
    "```\n",
    "my_tuple = (1, 2, 3)\n",
    "print(my_tuple[1:])\n",
    "```\n",
    "\n",
    "Наступний код виведе на екран наступний результат:\n",
    "\n",
    "_(2, 3)_\n",
    "\n",
    "_У цьому коді `my_tuple` є кортежем `(1, 2, 3)`. Вираз `my_tuple[1:]` означає вибірку елементів з індексу 1 і до кінця кортежу. Таким чином, він поверне новий кортеж, що містить елементи `(2, 3)`._"
   ]
  },
  {
   "cell_type": "markdown",
   "id": "929ae2cc-bc3f-4875-8b82-94d41249b5d6",
   "metadata": {},
   "source": [
    "__2__ _Що виведе наступний код?_\n",
    "\n",
    "```\n",
    "my_dict = {'a': 1, 'b': 2, 'c': 3}\n",
    "print(my_dict.get('d', 4))\n",
    "```\n",
    "\n",
    "Наступний код виведе на екран наступний результат:\n",
    "    \n",
    "_4_\n",
    "\n",
    "У цьому коді `my_dict` є словником `{'a': 1, 'b': 2, 'c': 3}`. Метод `.get(key, default)` використовується для отримання значення, пов'язаного з вказаним ключем `key`. Якщо ключ `key` присутній у словнику, метод поверне відповідне значення. У випадку, якщо ключ `key` відсутній у словнику, метод поверне значення `default`.\n",
    "\n",
    "У даному випадку, ключ `'d'` відсутній у словнику `my_dict`, тому метод `.get('d', 4)` поверне значення `4`, яке є значенням за замовчуванням, переданим як другий аргумент методу `.get()`."
   ]
  },
  {
   "cell_type": "markdown",
   "id": "be4544ef-5d35-4812-8850-cc6c30ad394b",
   "metadata": {},
   "source": [
    "__3__ _Що виведе наступний код?_ \n",
    "\n",
    "```\n",
    "my_tuple = (1, 2, 3)\n",
    "my_tuple[0] = 4\n",
    "print(my_tuple)\n",
    "```\n",
    "\n",
    "Наступний код викличе помилку, оскільки намагається змінити значення елемента у кортежі, а кортежи є неизмінними (immutable) об'єктами в Python. Тому спроба присвоєння нового значення `4` елементу `my_tuple[0]` призведе до помилки типу `TypeError`.\n"
   ]
  },
  {
   "cell_type": "markdown",
   "id": "233ca738-475f-432a-a310-d0b5b2c142d6",
   "metadata": {},
   "source": [
    "__4__ _Що виведе наступний код?_\n",
    "\n",
    "```\n",
    "my_dict = {'a': 1, 'b': 2, 'c': 3}\n",
    "my_dict.update({'d': 4})\n",
    "print(my_dict)\n",
    "```\n",
    "\n",
    "Наступний код виведе наступний результат:\n",
    "    \n",
    "_{'a': 1, 'b': 2, 'c': 3, 'd': 4}_\n",
    "\n",
    "У коді створюється словник `my_dict` з початковими парами ключ-значення `'a': 1`, `'b': 2`, `'c': 3`. Потім за допомогою методу `update()` до цього словника додається нова пара ключ-значення `'d': 4`. Таким чином, після оновлення словник буде містити всі чотири пари ключ-значення. При виведенні `print(my_dict)` відображається оновлений словник."
   ]
  },
  {
   "cell_type": "code",
   "execution_count": null,
   "id": "1fe4e5d6-8c2e-49b8-8058-f4abc080e15d",
   "metadata": {},
   "outputs": [],
   "source": []
  }
 ],
 "metadata": {
  "kernelspec": {
   "display_name": "Python 3 (ipykernel)",
   "language": "python",
   "name": "python3"
  },
  "language_info": {
   "codemirror_mode": {
    "name": "ipython",
    "version": 3
   },
   "file_extension": ".py",
   "mimetype": "text/x-python",
   "name": "python",
   "nbconvert_exporter": "python",
   "pygments_lexer": "ipython3",
   "version": "3.10.9"
  }
 },
 "nbformat": 4,
 "nbformat_minor": 5
}
