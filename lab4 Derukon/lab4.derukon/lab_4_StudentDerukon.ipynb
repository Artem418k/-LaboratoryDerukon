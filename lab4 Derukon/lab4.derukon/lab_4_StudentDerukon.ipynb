{
 "cells": [
  {
   "cell_type": "markdown",
   "id": "850517fa-be56-4afd-93d5-36bf760fb252",
   "metadata": {},
   "source": [
    "# Лабораторна робота №4. Логічні значення. Умовне виконання. Цикли\n"
   ]
  },
  {
   "cell_type": "markdown",
   "id": "5672f59c-79ee-4746-b475-260282188b92",
   "metadata": {},
   "source": [
    "__Мета:__ _освоїти роботу з логічними змінними, операторами розгалуження та операторами циклів_"
   ]
  },
  {
   "cell_type": "markdown",
   "id": "ef4ec1dc-570e-4a3d-a6c4-85a22bfda2f9",
   "metadata": {},
   "source": [
    "### Cамостiйна робота"
   ]
  },
  {
   "cell_type": "markdown",
   "id": "81eb94ec-cd04-4b30-a195-1b2ff507c214",
   "metadata": {},
   "source": [
    "### Завдання 1\n",
    "\n",
    "Використовуючи один з операторів порівняння в Python, напишіть просту дворядкову програму, яка приймає як вхідні дані параметр `n`, який є цілим числом, і друкує `False`, якщо `n` менше `100` і `True`, якщо `n` більше або дорівнює `100`.  \n",
    "Не створюйте жодних блоків `if`. Протестуйте свій код, використовуючи дані, надані нижче."
   ]
  },
  {
   "cell_type": "markdown",
   "id": "e593bc34-bfd0-4402-a318-384569a4e299",
   "metadata": {},
   "source": [
    "Приклад коду:"
   ]
  },
  {
   "cell_type": "code",
   "execution_count": null,
   "id": "a214afc6-7fc4-41e3-a9cb-6ce9c7b8307d",
   "metadata": {},
   "outputs": [],
   "source": [
    "a = 0\n",
    "while a < 21 :\n",
    "    n = int(input(\"Enter the number:\"))\n",
    "    print(n >= 100)\n",
    "    a += 1"
   ]
  },
  {
   "cell_type": "markdown",
   "id": "08d2ec26-0979-40e9-ba0d-f346351d9cb6",
   "metadata": {},
   "source": [
    "### Завдання 2\n",
    "\n",
    "Написати програму визначення найбільшого з двох дійсних чисел, використовуючи констуркцію `if-else`."
   ]
  },
  {
   "cell_type": "markdown",
   "id": "53e66fb1-04ba-4a55-81c1-8bf1ca26545f",
   "metadata": {},
   "source": [
    "Приклад коду:"
   ]
  },
  {
   "cell_type": "code",
   "execution_count": 8,
   "id": "82a021bb-8811-4bc8-8e44-7c2fa23db4f2",
   "metadata": {},
   "outputs": [
    {
     "name": "stdin",
     "output_type": "stream",
     "text": [
      "Введіть перше число:  4\n",
      "Введіть друге число:  3\n"
     ]
    },
    {
     "name": "stdout",
     "output_type": "stream",
     "text": [
      "Найбільше число: 4.0\n"
     ]
    }
   ],
   "source": [
    "num1 = float(input(\"Введіть перше число: \"))\n",
    "num2 = float(input(\"Введіть друге число: \"))\n",
    "\n",
    "if num1 > num2:\n",
    "    print(\"Найбільше число:\", num1)\n",
    "else:\n",
    "    print(\"Найбільше число:\", num2)"
   ]
  },
  {
   "cell_type": "markdown",
   "id": "26a5efdf-3b87-44d4-b948-3ce05996fa4d",
   "metadata": {},
   "source": [
    "###  Завдання 3"
   ]
  },
  {
   "cell_type": "markdown",
   "id": "c2aabaf0-07f8-4d57-bf38-4baea5b49f92",
   "metadata": {},
   "source": [
    "Спатифіллум, більш відомий як лілія світу або біле вітрило, є одним з найпопулярніших кімнатних рослин, що фільтрують шкідливі токсини з повітря. Деякі з токсинів, які він нейтралізує, включають бензол, формальдегід та аміак.\n",
    "\n",
    "Уявіть, що ваша комп'ютерна програма любить ці рослини. Щоразу, коли вона отримує введення у вигляді слова Spathiphyllum, вона мимоволі вигукує в консоль наступний рядок: \"Spathiphyllum is the best plant ever!\"\n",
    "\n",
    "\n",
    "Напишіть програму, яка використовує концепцію умовного виконання, приймає рядок як вхідні дані та:\n",
    "\n",
    "* виводить на екран пропозицію \"Yes - Spathiphyllum is the best plant ever!\", якщо введений рядок - \"Spathiphyllum\" (верхній регістр)\n",
    "* друкує \"No, I want a big Spathiphyllum!\", якщо введений рядок - \"spathiphyllum\" (у нижньому регістрі)\n",
    "виводить \"Spathiphyllum! Not [input]!\" в іншому випадку.  \n",
    "__Примітка.__ [input] - це рядок, прийнятий як вхідний.\n",
    "\n",
    "Протестуйте свій код, використовуючи дані, які надано нижче."
   ]
  },
  {
   "cell_type": "markdown",
   "id": "a88cde35-bb36-4a1c-9c73-7d366a633038",
   "metadata": {},
   "source": [
    "Приклад коду:"
   ]
  },
  {
   "cell_type": "code",
   "execution_count": 10,
   "id": "1b9f2a9c-5060-4365-b11a-581f0a95acbb",
   "metadata": {},
   "outputs": [
    {
     "name": "stdin",
     "output_type": "stream",
     "text": [
      "Введіть рядок:  pelargonium\n"
     ]
    },
    {
     "name": "stdout",
     "output_type": "stream",
     "text": [
      "Spathiphyllum! Not pelargonium!\n"
     ]
    }
   ],
   "source": [
    "input_str = input(\"Введіть рядок: \")\n",
    "\n",
    "if input_str == \"Spathiphyllum\":\n",
    "    print(\"Yes - Spathiphyllum is the best plant ever!\")\n",
    "elif input_str == \"spathiphyllum\":\n",
    "    print(\"No, I want a big Spathiphyllum!\")\n",
    "else:\n",
    "    print(\"Spathiphyllum! Not\", input_str + \"!\")\n",
    "    "
   ]
  },
  {
   "cell_type": "markdown",
   "id": "55f33edb-b526-452a-8db3-a8153edbd607",
   "metadata": {},
   "source": [
    "### Завдання 4"
   ]
  },
  {
   "cell_type": "markdown",
   "id": "831f8152-fd6b-428d-8d37-e237e437bdae",
   "metadata": {},
   "source": [
    "Жила-була земля -- земля молока та меду, населена щасливими та заможними людьми. Звісно, люди платили податки – їх щастя мало межі. Найважливіший податок, так званий податок на доходи фізичних осіб (скорочено ПДФО), повинен був сплачуватись один раз на рік та оцінювався за таким правилом:\n",
    "\n",
    "* якщо дохід громадянина не перевищував 85528 талерів, податок становив 18% від доходу мінус 556 талерів і 2 центи (це було те, що вони називали податковими пільгами)  \n",
    "* якщо дохід був вищим за цю суму, податок становив 14 839 талерів 2 центи плюс 32% надлишку понад 85 528 талерів.  \n",
    "Ваше завдання – написати калькулятор податків.\n",
    "\n",
    "Він повинен приймати одне значення з плаваючою комою: дохід.\n",
    "Потім він має вивести розрахований податок, заокруглений до повних талерів. Є функція з ім'ям `ound()`, яка виконуватиме заокруглення за вас -- ви знайдете її в скелетному коді нижче.  \n",
    "__Примітка:__ ця щаслива країна ніколи не повертала своїм громадянам грошей. Якщо розрахований податок був меншим за нуль, це означало б тільки повну відсутність податку (податок дорівнював нулю). Врахуйте це під час розрахунків.\n",
    "\n",
    "Подивіться на код нижче - він зчитує лише одне вхідне значення та виводить результат, тому вам потрібно завершити його деякими розумними обчисленнями.\n",
    "\n",
    "Протестуйте свій код, використовуючи тестові дані, наведені нижче."
   ]
  },
  {
   "cell_type": "code",
   "execution_count": 13,
   "id": "762d6beb-c806-437f-ad5d-44a1af7eb017",
   "metadata": {},
   "outputs": [],
   "source": [
    "# income = float(input(\"Enter the annual income: \"))\n",
    "\n",
    "#\n",
    "# Write your code here.\n",
    "#\n",
    "\n",
    "# tax = round(tax, 0)\n",
    "# print(\"The tax is:\", tax, \"thalers\")"
   ]
  },
  {
   "cell_type": "markdown",
   "id": "2b9b31e7-8d4d-4483-aadb-d132e31439c6",
   "metadata": {},
   "source": [
    "Приклад коду:"
   ]
  },
  {
   "cell_type": "code",
   "execution_count": 12,
   "id": "1da20aa5-37d2-41a1-adac-029f0f4cf185",
   "metadata": {},
   "outputs": [
    {
     "name": "stdin",
     "output_type": "stream",
     "text": [
      "Введіть річний дохід:  10000\n"
     ]
    },
    {
     "name": "stdout",
     "output_type": "stream",
     "text": [
      "Податок становить: 1244 талерів\n"
     ]
    }
   ],
   "source": [
    "income = float(input(\"Введіть річний дохід: \"))\n",
    "\n",
    "tax = 0\n",
    "\n",
    "if income <= 85528:\n",
    "    tax = income * 0.18 - 556.02\n",
    "else:\n",
    "    tax = 14839.02 + (income - 85528) * 0.32\n",
    "\n",
    "tax = max(tax, 0)  # Податок не може бути меншим за нуль\n",
    "\n",
    "tax = round(tax)  # Заокруглення до цілих талерів\n",
    "\n",
    "print(\"Податок становить:\", tax, \"талерів\")"
   ]
  },
  {
   "cell_type": "markdown",
   "id": "8a0586f8-627f-4cc5-8249-6c3f2b960ee2",
   "metadata": {},
   "source": [
    "### Завдання 5"
   ]
  },
  {
   "cell_type": "markdown",
   "id": "5d3cc862-302c-4e88-bd07-29291025df2f",
   "metadata": {},
   "source": [
    "Як ви, напевно, знаєте, з деяких астрономічних причин роки можуть бути високосними або звичайними. Перші тривають 366 днів, а другі – 365 днів.\n",
    "\n",
    "З моменту введення григоріанського календаря (1582) для визначення року використовується наступне правило:\n",
    "\n",
    "* якщо номер року не ділиться на чотири, це звичайний рік;\n",
    "* в іншому випадку, якщо номер року не ділиться на 100, це високосний рік;\n",
    "* в іншому випадку, якщо номер року не ділиться на 400, це звичайний рік;\n",
    "* інакше це високосний рік.  \n",
    "\n",
    "Подивіться на код у редакторі -- він читає лише номер року і має бути доповнений інструкціями, що реалізують тест, який описаний вище.\n",
    "\n",
    "Код має виводити одне з двох можливих повідомлень: `Leap year` або `Common year`, залежно від введеного значення.\n",
    "\n",
    "Було б добре перевірити, чи належить введений рік до григоріанської ери, і вивести попередження інакше: `Not within the Gregorian calendar period.`  \n",
    "\n",
    "__Підказка:__ використовуйте оператори `!=` та `%`.\n",
    "\n",
    "Протестуйте свій код, використовуючи надані нами дані."
   ]
  },
  {
   "cell_type": "markdown",
   "id": "2b934261-6747-4b91-9e13-f6bc4ad798e6",
   "metadata": {},
   "source": [
    "Приклад коду:"
   ]
  },
  {
   "cell_type": "code",
   "execution_count": 16,
   "id": "2a5195ed-3953-45fc-915d-0342eadea2eb",
   "metadata": {},
   "outputs": [
    {
     "name": "stdin",
     "output_type": "stream",
     "text": [
      "Введіть рік:  1999\n"
     ]
    },
    {
     "name": "stdout",
     "output_type": "stream",
     "text": [
      "Common year\n"
     ]
    }
   ],
   "source": [
    "year = int(input(\"Введіть рік: \"))\n",
    "\n",
    "if year >= 1582:\n",
    "    if year % 4 != 0:\n",
    "        result = \"Common year\"\n",
    "    elif year % 100 != 0:\n",
    "        result = \"Leap year\"\n",
    "    elif year % 400 != 0:\n",
    "        result = \"Common year\"\n",
    "    else:\n",
    "        result = \"Leap year\"\n",
    "else:\n",
    "    result = \"Not within the Gregorian calendar period.\"\n",
    "\n",
    "print(result)\n"
   ]
  },
  {
   "cell_type": "markdown",
   "id": "c46c8ca3-565f-49c8-b47f-33468ee54841",
   "metadata": {},
   "source": [
    "### Завдання 6 "
   ]
  },
  {
   "cell_type": "markdown",
   "id": "f42f4ca1-5891-4cfb-a12b-6cbcb8b28d1d",
   "metadata": {},
   "source": [
    "Молодший чарівник вибрав таємне число. Він сховав його в змінну з ім'ям `secret_number`. Він хоче, щоб кожен, хто запускає його програму, грав у гру _Вгадай секретний номер_ і вгадав, яке число він вибрав для них. Ті, хто не вгадає число, назавжди застрянуть у нескінченній петлі! На жаль, він не знає, як завершити код.\n",
    "\n",
    "Ваше завдання допомогти фокуснику доповнити код у редакторі таким чином, щоб код:\n",
    "\n",
    "* попросив користувача ввести ціле число;\n",
    "* використовувавши цикл `while`;\n",
    "* перевірити, чи включає введене користувачем число з числом, вибраним фокусником. Якщо число, обране користувачем, відрізняється від секретного числа чарівника, користувач повинен побачити повідомлення `\"Ха-ха! Ви застрягли у моїй петлі!\"` і отримати запит на повторне введення числа. Якщо число, введене користувачем, співпадає з числом, вибраним фокусником, число має бути надруковане на екрані, і фокусник повинен вимовити наступне слово: `«Молодець, магле! Тепер ти вільний»`. \n",
    "\n",
    "Чарівник розраховує на Вас! Не розчаровуйте його.\n",
    "\n",
    "\n",
    "ДОДАТКОВА ІНФОРМАЦІЯ\n",
    "\n",
    "До речі, подивитесь на функцію `print()`. Те, як ми це використовували тут, називається багаторядковим друком. Ви можете використовувати три кавички для друку рядка в кількох рядках, щоб текст був легшим для читання, або для створення спеціального текстового дизайну. Поекспериментуйте з цим."
   ]
  },
  {
   "cell_type": "code",
   "execution_count": 17,
   "id": "b0f4dfea-3a0a-4f9a-b93b-b85f695a0ec6",
   "metadata": {},
   "outputs": [
    {
     "name": "stdout",
     "output_type": "stream",
     "text": [
      "\n",
      "+================================+\n",
      "| Welcome to my game, muggle!    |\n",
      "| Enter an integer number        |\n",
      "| and guess what number I've     |\n",
      "| picked for you.                |\n",
      "| So, what is the secret number? |\n",
      "+================================+\n",
      "\n"
     ]
    }
   ],
   "source": [
    "#secret_number = 777\n",
    "\n",
    "print(\n",
    "\"\"\"\n",
    "+================================+\n",
    "| Welcome to my game, muggle!    |\n",
    "| Enter an integer number        |\n",
    "| and guess what number I've     |\n",
    "| picked for you.                |\n",
    "| So, what is the secret number? |\n",
    "+================================+\n",
    "\"\"\")"
   ]
  },
  {
   "cell_type": "code",
   "execution_count": null,
   "id": "cdaba930-cefb-429f-886a-4bde3bcb0f79",
   "metadata": {},
   "outputs": [],
   "source": [
    "Приклад коду:"
   ]
  },
  {
   "cell_type": "code",
   "execution_count": 18,
   "id": "6827eb41-8728-4b26-898a-ada5436a22e7",
   "metadata": {},
   "outputs": [
    {
     "name": "stdout",
     "output_type": "stream",
     "text": [
      "\n",
      "+================================+\n",
      "| Welcome to my game, muggle!    |\n",
      "| Enter an integer number        |\n",
      "| and guess what number I've     |\n",
      "| picked for you.                |\n",
      "| So, what is the secret number? |\n",
      "+================================+\n",
      "\n"
     ]
    },
    {
     "name": "stdin",
     "output_type": "stream",
     "text": [
      "Enter an integer number:  776\n"
     ]
    },
    {
     "name": "stdout",
     "output_type": "stream",
     "text": [
      "Ha-ha! You're stuck in my loop!\n"
     ]
    },
    {
     "name": "stdin",
     "output_type": "stream",
     "text": [
      "Try again. Enter another number:  777\n"
     ]
    },
    {
     "name": "stdout",
     "output_type": "stream",
     "text": [
      "Well done, muggle! Now you are free!\n"
     ]
    }
   ],
   "source": [
    "secret_number = 777\n",
    "\n",
    "print(\n",
    "\"\"\"\n",
    "+================================+\n",
    "| Welcome to my game, muggle!    |\n",
    "| Enter an integer number        |\n",
    "| and guess what number I've     |\n",
    "| picked for you.                |\n",
    "| So, what is the secret number? |\n",
    "+================================+\n",
    "\"\"\")\n",
    "\n",
    "guess = int(input(\"Enter an integer number: \"))\n",
    "\n",
    "while guess != secret_number:\n",
    "    print(\"Ha-ha! You're stuck in my loop!\")\n",
    "    guess = int(input(\"Try again. Enter another number: \"))\n",
    "\n",
    "print(\"Well done, muggle! Now you are free!\")\n"
   ]
  },
  {
   "cell_type": "markdown",
   "id": "e2e2e674-f08b-4cc8-a65b-fa6878d6f6e3",
   "metadata": {},
   "source": [
    "### Завдання 7 "
   ]
  },
  {
   "cell_type": "markdown",
   "id": "45d75f07-6b89-4359-8b74-aff5db7357de",
   "metadata": {},
   "source": [
    "Ви знаєте, що таке Міссісіпі? Ну, це назва одного зі штатів та річок у Сполучених Штатах. Довжина річки Міссісіпі становить близько 2340 миль, що робить її другою за довжиною річкою у Сполучених Штатах (найдовшою з них є річка Міссурі). Це так багато, що одній краплі води потрібно 90 днів, щоб пройти весь її шлях!\n",
    "\n",
    "Слово Міссісіпі також використовується для дещо іншої мети: для рахунку Міссісіпі.\n",
    "\n",
    "Якщо ви не знайомі з цією фразою, ми можемо пояснити вам, що вона означає: вона використовується для підрахунку секунд.\n",
    "\n",
    "Ідея полягає в тому, що додавання слова Міссісіпі до числа при підрахунку секунд вголос змушує рахунок бути хронологічно точніше, і, отже, вимова \"один Міссісіпі, два Міссісіпі, три Міссісіпі\" займе приблизно три секунди! Рахунок Міссісіпі часто використовують діти, які грають у хованки, щоб переконатися, що той, хто шукає чесно, підраховує час.\n",
    "\n",
    "Ваше завдання тут дуже просте: напишіть програму, яка використовує цикл `for` для «рахунку Міссісіпі» до п'яти. Порахувавши до п'яти, програма повинна вивести на екран фінальне повідомлення `\"Ready or not, here I come!\"`\n",
    "\n",
    "Використовуйте код, який ми надали у редакторі.\n",
    "\n",
    "ДОДАТКОВА ІНФОРМАЦІЯ\n",
    "\n",
    "Зверніть увагу, що код редактора містить два елементи, які можуть бути наразі вам не зовсім зрозумілі: оператор `import time` і метод `sleep()`. Ми незабаром про них поговоримо.\n",
    "\n",
    "Наразі ми просто хотіли, щоб ви знали, що ми імпортували модуль `time` і використовували метод `sleep()` для припинення виконання кожної наступної функції `print()` всередині циклу `for` на одну секунду, щоб повідомлення, яке виводиться на консоль, було схоже на фактичний підрахунок."
   ]
  },
  {
   "cell_type": "code",
   "execution_count": 19,
   "id": "833a08c0-61b5-41b0-8d5a-f7932900dafe",
   "metadata": {},
   "outputs": [],
   "source": [
    "import time\n",
    "\n",
    "# Write a for loop that counts to five.\n",
    "    # Body of the loop - print the loop iteration number and the word \"Mississippi\".\n",
    "    # Body of the loop - use: time.sleep(1)\n",
    "\n",
    "# Write a print function with the final message."
   ]
  },
  {
   "cell_type": "code",
   "execution_count": null,
   "id": "f788ec2b-7be4-49f1-9b20-2b4cbe2fa2fc",
   "metadata": {},
   "outputs": [],
   "source": [
    "Приклад коду:"
   ]
  },
  {
   "cell_type": "code",
   "execution_count": 20,
   "id": "279dc2c4-7232-4f01-b15b-1b92ba43ede0",
   "metadata": {},
   "outputs": [
    {
     "name": "stdout",
     "output_type": "stream",
     "text": [
      "1 Mississippi\n",
      "2 Mississippi\n",
      "3 Mississippi\n",
      "4 Mississippi\n",
      "5 Mississippi\n",
      "Ready or not, here I come!\n"
     ]
    }
   ],
   "source": [
    "import time\n",
    "\n",
    "# Write a for loop that counts to five.\n",
    "for i in range(1, 6):\n",
    "    # Body of the loop - print the loop iteration number and the word \"Mississippi\".\n",
    "    print(i, \"Mississippi\")\n",
    "    # Body of the loop - use: time.sleep(1)\n",
    "    time.sleep(1)\n",
    "\n",
    "# Write a print function with the final message.\n",
    "print(\"Ready or not, here I come!\")"
   ]
  },
  {
   "cell_type": "markdown",
   "id": "7fd3f618-f7c2-4f0f-8245-9d97f6d1fa82",
   "metadata": {},
   "source": [
    "### Завдання 8 "
   ]
  },
  {
   "cell_type": "markdown",
   "id": "cfab0ddc-6ad0-40a6-b1d1-e22cab5974a6",
   "metadata": {},
   "source": [
    "Оператор `break` використовується для завершення/виходу з циклу.\n",
    "\n",
    "Розробте програму, яка використовує цикл `while` і постійно просить користувача ввести слово, якщо користувач не вводить `\"chupacabra\"` як секретне вихідне слово, і в цьому випадку повідомлення `\"You've successfully left the loop.\"` має бути виведений на екран, а цикл має завершитись.\n",
    "\n",
    "Не друкуйте жодне із введених користувачем слів. Використовуйте концепцію умовного виконання та інструкцію `break`."
   ]
  },
  {
   "cell_type": "markdown",
   "id": "ad672194-e34b-478a-b47f-6016c96993f3",
   "metadata": {},
   "source": [
    "Приклад коду:"
   ]
  },
  {
   "cell_type": "code",
   "execution_count": 25,
   "id": "94110f37-59c6-41c3-bcd8-95e555afe422",
   "metadata": {},
   "outputs": [
    {
     "name": "stdin",
     "output_type": "stream",
     "text": [
      "Enter a word:  chupacabra\n"
     ]
    },
    {
     "name": "stdout",
     "output_type": "stream",
     "text": [
      "You've successfully left the loop.\n"
     ]
    }
   ],
   "source": [
    "# Start an infinite loop\n",
    "while True:\n",
    "    # Ask the user to enter a word\n",
    "    word = input(\"Enter a word: \")\n",
    "\n",
    "    # Check if the word is \"chupacabra\"\n",
    "    if word == \"chupacabra\":\n",
    "        # If it is, print a message and break the loop\n",
    "        print(\"You've successfully left the loop.\")\n",
    "        break"
   ]
  },
  {
   "cell_type": "markdown",
   "id": "38818490-d4b7-4b31-9114-2653093ec3fa",
   "metadata": {},
   "source": [
    "### Завдання 9"
   ]
  },
  {
   "cell_type": "markdown",
   "id": "de760a7b-a24a-497c-afc7-6a9095c97bd5",
   "metadata": {},
   "source": [
    "Ваша програма повинна:\n",
    "\n",
    "* попросити користувача ввести слово;\n",
    "* використовувати `user_word = user_word.upper()`, щоб перетворити слово, введене користувачем, у верхній регістр; ми  поговоримо про рядкові методи та метод `upper()` у наступних лекціях;\n",
    "* використовуйте умовне виконання та оператор `continue`, щоб \"з'їсти\" наступні голосні `A`, `E`, `I`, `O`, `U` у введеному слові;\n",
    "* виведіть на екран нез'їдені літери, кожну в окремому рядку.\n",
    "\n",
    "Протестуйте свою програму з даними, які надані нижче."
   ]
  },
  {
   "cell_type": "code",
   "execution_count": 26,
   "id": "050bb203-4cc1-4e4e-a4a0-b35cacddd3e1",
   "metadata": {},
   "outputs": [],
   "source": [
    "# Prompt the user to enter a word\n",
    "# and assign it to the user_word variable.\n",
    "\n",
    "# for letter in user_word:\n",
    "    # Complete the body of the for loop."
   ]
  },
  {
   "cell_type": "markdown",
   "id": "6f61c1e1-6bf2-4ca7-92c0-79360ed8960d",
   "metadata": {},
   "source": [
    "Приклад коду:"
   ]
  },
  {
   "cell_type": "code",
   "execution_count": 27,
   "id": "ecbb35e9-f728-4140-8cc5-46c3f1c3f7e4",
   "metadata": {},
   "outputs": [
    {
     "name": "stdin",
     "output_type": "stream",
     "text": [
      "Enter a word:  Gregory\n"
     ]
    },
    {
     "name": "stdout",
     "output_type": "stream",
     "text": [
      "G\n",
      "R\n",
      "G\n",
      "R\n",
      "Y\n"
     ]
    }
   ],
   "source": [
    "# Ask the user to enter a word\n",
    "user_word = input(\"Enter a word: \")\n",
    "\n",
    "# Convert the user's word to uppercase\n",
    "user_word = user_word.upper()\n",
    "\n",
    "# Iterate over each letter in the word\n",
    "for letter in user_word:\n",
    "    # Check if the letter is a vowel\n",
    "    if letter in ['A', 'E', 'I', 'O', 'U']:\n",
    "        # If it is, continue to the next iteration\n",
    "        continue\n",
    "    # If it's not a vowel, print the letter on a separate line\n",
    "    print(letter)"
   ]
  },
  {
   "cell_type": "markdown",
   "id": "be28d390-ab15-4172-8915-ced096bbdf14",
   "metadata": {},
   "source": [
    "### Завдання 10"
   ]
  },
  {
   "cell_type": "markdown",
   "id": "551c6565-7494-441f-9696-1c66f554e1ea",
   "metadata": {},
   "source": [
    "Ваше завдання тут ще особливіше, ніж раніше: Ви повинні переробити (потворного) пожирача голосних із попереднього завдання і створити кращого, покращеного (красивого) пожирача голосних! Напишіть програму, яка використовує:\n",
    "\n",
    "* цикл `for`;\n",
    "* концепцію умовного виконання (`if-elif-else`)\n",
    "* оператор `continue`.\n",
    "\n",
    "Ваша програма повинна:\n",
    "\n",
    "* попросити користувача ввести слово;\n",
    "* використовувати `user_word = user_word.upper()`, щоб перетворити слово, введене користувачем, у верхній регістр; * використовувати умовне виконання та оператор `continue` , щоб \"з'їсти\" наступні голосні `A, E, I, O, U` від введеного слова;\n",
    "* присвоїти нез'їдені літери змінної `word_without_vowels` та вивести змінну на екран.\n",
    "\n",
    "Подивіться код нижче. Ми створили `word_without_vowels` і надали йому порожній рядок. Використовуйте операцію конкатенації, щоб попросити Python об'єднати вибрані літери у довший рядок у наступних ітераціях циклу та призначити її змінною `word_without_vowels`.\n",
    "\n",
    "Протестуйте свою програму з даними, які ми надали."
   ]
  },
  {
   "cell_type": "code",
   "execution_count": null,
   "id": "4bfb045e-df37-4867-9e4d-93e03ea192ce",
   "metadata": {},
   "outputs": [],
   "source": [
    "word_without_vowels = \"\"\n",
    "\n",
    "# Prompt the user to enter a word\n",
    "# and assign it to the user_word variable.\n",
    "\n",
    "\n",
    "# for letter in user_word:\n",
    "    # Complete the body of the loop.\n",
    "\n",
    "# Print the word assigned to word_without_vowels."
   ]
  },
  {
   "cell_type": "markdown",
   "id": "a550b726-3788-4558-8c42-a4e19c09d308",
   "metadata": {},
   "source": [
    "Приклад коду:"
   ]
  },
  {
   "cell_type": "code",
   "execution_count": 28,
   "id": "406f6aba-bcad-4656-ba3e-c5e8c2e2b31e",
   "metadata": {},
   "outputs": [
    {
     "name": "stdin",
     "output_type": "stream",
     "text": [
      "Enter a word:  Gregory\n"
     ]
    },
    {
     "name": "stdout",
     "output_type": "stream",
     "text": [
      "GRGRY\n"
     ]
    }
   ],
   "source": [
    "# Prompt the user to enter a word and convert it to uppercase\n",
    "user_word = input(\"Enter a word: \").upper()\n",
    "\n",
    "# Initialize an empty string to store the word without vowels\n",
    "word_without_vowels = \"\"\n",
    "\n",
    "# Iterate over each letter in the user's word\n",
    "for letter in user_word:\n",
    "    # Check if the letter is a vowel\n",
    "    if letter in ['A', 'E', 'I', 'O', 'U']:\n",
    "        # If it is, continue to the next iteration\n",
    "        continue\n",
    "    # If it's not a vowel, add it to the word_without_vowels\n",
    "    word_without_vowels += letter\n",
    "\n",
    "# Print the word without vowels\n",
    "print(word_without_vowels)\n"
   ]
  },
  {
   "cell_type": "markdown",
   "id": "e0215056-11c0-40a0-8fd6-9b66277d350a",
   "metadata": {},
   "source": [
    "### Завдання 11"
   ]
  },
  {
   "cell_type": "markdown",
   "id": "32e9e9dc-ec8f-4dd8-8f89-698c5eb81bd3",
   "metadata": {},
   "source": [
    "Ваше завдання – написати програму, яка зчитує кількість блоків, що є у будівельників, та виводить висоту піраміди, яку можна побудувати з цих блоків.\n",
    "\n",
    "__Примітка:__ висота вимірюється кількістю повністю завершених шарів –- якщо будівельники не мають достатньої кількості блоків та не можуть завершити наступний шар, вони негайно закінчують свою роботу.\n",
    "\n",
    "Протестуйте свій код, використовуючи надані нами дані."
   ]
  },
  {
   "cell_type": "markdown",
   "id": "2825faa8-ce53-4e1c-bbeb-e918e83c42ed",
   "metadata": {},
   "source": [
    "Приклад коду:"
   ]
  },
  {
   "cell_type": "code",
   "execution_count": 30,
   "id": "e884c85a-4b6c-4284-aba3-34fa56133d54",
   "metadata": {},
   "outputs": [
    {
     "name": "stdin",
     "output_type": "stream",
     "text": [
      "Enter the number of blocks:  1000\n"
     ]
    },
    {
     "name": "stdout",
     "output_type": "stream",
     "text": [
      "The height of the pyramid is: 44\n"
     ]
    }
   ],
   "source": [
    "# Prompt the user to enter the number of blocks\n",
    "num_blocks = int(input(\"Enter the number of blocks: \"))\n",
    "\n",
    "# Initialize variables\n",
    "height = 0\n",
    "layer_blocks = 1\n",
    "blocks_used = 0\n",
    "\n",
    "# Build the pyramid\n",
    "while blocks_used + layer_blocks <= num_blocks:\n",
    "    height += 1\n",
    "    blocks_used += layer_blocks\n",
    "    layer_blocks += 1\n",
    "\n",
    "# Print the height of the pyramid\n",
    "print(\"The height of the pyramid is:\", height)"
   ]
  },
  {
   "cell_type": "markdown",
   "id": "58adb170-eefe-4d34-9f10-0aed08402c83",
   "metadata": {},
   "source": [
    "### Завдання 12"
   ]
  },
  {
   "cell_type": "markdown",
   "id": "c3b5c8db-7876-45e4-8d8f-b7f5e46dbd9b",
   "metadata": {},
   "source": [
    "1937 року німецький математик Лотар Коллатц сформулював інтригуючу гіпотезу (вона досі не доведена), яку можна описати так:\n",
    "\n",
    "* візьміть будь-яке невід'ємне та ненульове ціле число та назвіть його `c0`;\n",
    "* якщо воно парне, обчисліть нове `c0` як `c0÷2`;\n",
    "* в іншому випадку, якщо воно непарне, висиліть нове `c0 `як `3 × c0 + 1`;\n",
    "* якщо `c0 ≠ 1`, поверніться до пункту 2.\n",
    "\n",
    "Гіпотеза свідчить, що незалежно від початкового значення `c0` воно завжди дорівнюватиме `1`.\n",
    "\n",
    "Звичайно, використання комп'ютера для доведення гіпотези для будь-якого натурального числа -- надзвичайно складне завдання (для цього може знадобитися навіть штучний інтелект), але ви можете використовувати Python для перевірки деяких окремих чисел. Можливо, Ви навіть знайдете те, що спростує гіпотезу.\n",
    "\n",
    "\n",
    "Напишіть програму, яка зчитує одне натуральне число і виконує вказані вище кроки до тих пір, поки `c0` залишається відмінним від `1`. Ми також хочемо, щоб ви підрахували кроки, необхідні для досягнення мети. Ваш код також повинен виводити усі проміжні значення `c0`.\n",
    "\n",
    "Підказка: найважливіша частина проблеми –- як перетворити ідею Коллатца на цикл `while` – це ключ до успіху.\n",
    "\n",
    "Протестуйте свій код, використовуючи надані нами дані."
   ]
  },
  {
   "cell_type": "markdown",
   "id": "0e9fc43e-3717-4a18-984c-5cc7e56b448b",
   "metadata": {},
   "source": [
    "Приклад коду:"
   ]
  },
  {
   "cell_type": "code",
   "execution_count": 32,
   "id": "e93ad5c9-d97c-4cb7-8b5d-af1030b083f5",
   "metadata": {},
   "outputs": [
    {
     "name": "stdin",
     "output_type": "stream",
     "text": [
      "Enter a natural number:  16\n"
     ]
    },
    {
     "name": "stdout",
     "output_type": "stream",
     "text": [
      "16\n",
      "8\n",
      "4\n",
      "2\n",
      "1\n",
      "Number of steps: 4\n"
     ]
    }
   ],
   "source": [
    "# Prompt the user to enter a natural number\n",
    "c0 = int(input(\"Enter a natural number: \"))\n",
    "\n",
    "# Initialize the step counter\n",
    "steps = 0\n",
    "\n",
    "# Calculate the Collatz sequence\n",
    "while c0 != 1:\n",
    "    print(c0)\n",
    "    if c0 % 2 == 0:\n",
    "        c0 = c0 // 2\n",
    "    else:\n",
    "        c0 = 3 * c0 + 1\n",
    "    steps += 1\n",
    "\n",
    "# Print the final value of c0 and the number of steps taken\n",
    "print(c0)\n",
    "print(\"Number of steps:\", steps)"
   ]
  },
  {
   "cell_type": "markdown",
   "id": "b0bcd5ae-f620-4822-b407-1e4a4bd6bd29",
   "metadata": {},
   "source": [
    "### Контрольні запитання"
   ]
  },
  {
   "attachments": {
    "7655e719-b8ef-40e1-b892-78cd2cde9480.PNG": {
     "image/png": "[encoded data removed]"
    }
   },
   "cell_type": "markdown",
   "id": "6abd38c5-987a-4f04-be14-104d37501932",
   "metadata": {},
   "source": [
    "__1__ _Який вивод наступного фрагмента?_\n",
    "![image1.PNG](attachment:7655e719-b8ef-40e1-b892-78cd2cde9480.PNG)"
   ]
  },
  {
   "cell_type": "markdown",
   "id": "80f6146c-7311-4d69-b86c-2d6c9266dc3e",
   "metadata": {},
   "source": [
    "Вивід наступного фрагмента коду буде:\n",
    "\n",
    "_False_\n",
    "\n",
    "_True_\n",
    "\n",
    "У першому випадку, `x > y`, що означає \"чи `x` більше за `y`?\". Оскільки `x` дорівнює 5, а `y` дорівнює 10, вираз `x > y` є хибним (False), тому що 5 не більше за 10.\n",
    "\n",
    "У другому випадку, `y > z`, що означає \"чи `y` більше за `z`?\". Оскільки `y` дорівнює 10, а `z` дорівнює 8, вираз `y > z` є істинним (True), тому що 10 більше за 8."
   ]
  },
  {
   "attachments": {
    "691b9c89-25e5-413d-8298-2ca69ce1edda.PNG": {
     "image/png": "[encoded data removed]"
    }
   },
   "cell_type": "markdown",
   "id": "b196adac-647e-401c-bb31-f588976b4999",
   "metadata": {},
   "source": [
    "__2__ _Який вивод наступного фрагмента?_\n",
    "![image2.PNG](attachment:691b9c89-25e5-413d-8298-2ca69ce1edda.PNG)"
   ]
  },
  {
   "cell_type": "markdown",
   "id": "b0b5d171-d2d9-4ddf-ab70-119a690ea029",
   "metadata": {},
   "source": [
    "Вивід наступного фрагмента коду буде:\n",
    "    \n",
    "_False_\n",
    "\n",
    "_True_\n",
    "\n",
    "У першому випадку, `x > z`, що означає \"чи `x` більше за `z`?\". Оскільки `x` дорівнює 5, а `z` дорівнює 8, вираз `x > z` є хибним (False), тому що 5 не більше за 8.\n",
    "\n",
    "У другому випадку, `(y-5) == x`, що означає \"чи `y` мінус 5 дорівнює `x`?\". Оскільки `y` дорівнює 10, а `x` дорівнює 5, вираз `(y-5) == x` є істинним (True), тому що 10 мінус 5 дорівнює 5."
   ]
  },
  {
   "attachments": {
    "2ca2664b-928d-424b-9098-6a395df59679.PNG": {
     "image/png": "[encoded data removed]"
    }
   },
   "cell_type": "markdown",
   "id": "8d4c5cfe-b6d9-45fa-b3f7-953e9be38303",
   "metadata": {},
   "source": [
    "__3__ _Який вивод наступного фрагмента?_\n",
    "![image3.PNG](attachment:2ca2664b-928d-424b-9098-6a395df59679.PNG)"
   ]
  },
  {
   "cell_type": "markdown",
   "id": "78522afd-9341-41a2-95fc-b15bb3622e18",
   "metadata": {},
   "source": [
    "Вивід наступного фрагмента коду буде:\n",
    "\n",
    "_True_\n",
    "\n",
    "_False_\n",
    "\n",
    "У першому випадку, `x > z`, що означає \"чи `x` більше за `z`?\". Оскільки `x` дорівнює 8, а `z` дорівнює 5 (зі зміною значень), вираз `x > z` є істинним (True), оскільки 8 більше за 5.\n",
    "\n",
    "У другому випадку, `(y-5) == x`, що означає \"чи `y` мінус 5 дорівнює `x`?\". Оскільки `y` дорівнює 10, а `x` дорівнює 8 (зі зміною значень), вираз `(y-5) == x` є хибним (False), оскільки 10 мінус 5 не дорівнює 8."
   ]
  }
 ],
 "metadata": {
  "kernelspec": {
   "display_name": "Python 3 (ipykernel)",
   "language": "python",
   "name": "python3"
  },
  "language_info": {
   "codemirror_mode": {
    "name": "ipython",
    "version": 3
   },
   "file_extension": ".py",
   "mimetype": "text/x-python",
   "name": "python",
   "nbconvert_exporter": "python",
   "pygments_lexer": "ipython3",
   "version": "3.10.9"
  }
 },
 "nbformat": 4,
 "nbformat_minor": 5
}
