{
 "cells": [
  {
   "cell_type": "markdown",
   "id": "d7e667a1-2a71-4880-8948-9ad98c5a7ee9",
   "metadata": {},
   "source": [
    "# Лабораторна робота №5. Списки"
   ]
  },
  {
   "cell_type": "markdown",
   "id": "e3cf6e8d-1d29-4702-a37b-e0e6b5dafd92",
   "metadata": {},
   "source": [
    "__Мета:__ _освоїти роботу зі списками_"
   ]
  },
  {
   "cell_type": "markdown",
   "id": "6dbb391b-efe6-4c8c-8bb2-b49472709e3f",
   "metadata": {},
   "source": [
    "## Cамостiйна робота"
   ]
  },
  {
   "cell_type": "markdown",
   "id": "a052fc59-2e35-441e-82c2-3ae9d9ac1d2d",
   "metadata": {},
   "source": [
    "### Завдання 1"
   ]
  },
  {
   "cell_type": "markdown",
   "id": "92c8b772-672a-4e9c-9ed6-9ff96878a6bd",
   "metadata": {},
   "source": [
    "Жив-був капелюх. У капелюсі не було кролика, натомість був список із п'яти чисел: `1`, `2`, `3`, `4` та `5`.\n",
    "\n",
    "Ваше завдання:\n",
    "\n",
    "* напишіть рядок коду, що пропонує користувачеві замінити число всередині списку цілим числом, введеним користувачем (крок 1)\n",
    "* напишіть рядок коду, який видаляє останній елемент зі списку (крок 2)\n",
    "* напишіть рядок коду, який друкує довжину існуючого списку (крок 3).  \n",
    "\n",
    "Чи готові до цього випробування?"
   ]
  },
  {
   "cell_type": "code",
   "execution_count": 9,
   "id": "ab78eb81-df0d-4166-a8ab-5a842cb04995",
   "metadata": {},
   "outputs": [
    {
     "name": "stdout",
     "output_type": "stream",
     "text": [
      "[1, 2, 3, 4, 5]\n"
     ]
    }
   ],
   "source": [
    "hat_list = [1, 2, 3, 4, 5]  # This is an existing list of numbers hidden in the hat.\n",
    "\n",
    "# Step 1: write a line of code that prompts the user\n",
    "# to replace the middle number with an integer number entered by the user.\n",
    "\n",
    "# Step 2: write a line of code that removes the last element from the list.\n",
    "\n",
    "# Step 3: write a line of code that prints the length of the existing list.\n",
    "\n",
    "print(hat_list)"
   ]
  },
  {
   "cell_type": "markdown",
   "id": "f5515630-ff0b-45bc-a579-973021b2e10d",
   "metadata": {},
   "source": [
    "Приклад коду:"
   ]
  },
  {
   "cell_type": "code",
   "execution_count": 7,
   "id": "707266f7-c189-43d0-8c6b-52d8eb0cf740",
   "metadata": {},
   "outputs": [
    {
     "name": "stdin",
     "output_type": "stream",
     "text": [
      "Enter a number to replace the middle number:  1\n"
     ]
    },
    {
     "name": "stdout",
     "output_type": "stream",
     "text": [
      "Length of the list: 4\n",
      "[1, 2, 1, 4]\n"
     ]
    }
   ],
   "source": [
    "hat_list = [1, 2, 3, 4, 5]\n",
    "\n",
    "# Step 1: Prompt the user to replace the middle number\n",
    "new_number = int(input(\"Enter a number to replace the middle number: \"))\n",
    "hat_list[2] = new_number\n",
    "\n",
    "# Step 2: Remove the last element from the list\n",
    "hat_list.pop()\n",
    "\n",
    "# Step 3: Print the length of the list\n",
    "print(\"Length of the list:\", len(hat_list))\n",
    "\n",
    "print(hat_list)"
   ]
  },
  {
   "cell_type": "markdown",
   "id": "ea8f87db-7521-42c4-ade3-3fc2407763a6",
   "metadata": {},
   "source": [
    "### Завдання 2"
   ]
  },
  {
   "cell_type": "markdown",
   "id": "d4e586a1-52da-47c1-94ab-ba7ad660c998",
   "metadata": {},
   "source": [
    "Написати програму сортування списку у порядку зростання методом бульбашки."
   ]
  },
  {
   "cell_type": "markdown",
   "id": "a13aa537-8264-4c2f-895b-1db572be5606",
   "metadata": {},
   "source": [
    "Приклад коду:"
   ]
  },
  {
   "cell_type": "code",
   "execution_count": 12,
   "id": "cc1a30f5-5b3f-45fe-b10d-8563224be41f",
   "metadata": {},
   "outputs": [
    {
     "name": "stdout",
     "output_type": "stream",
     "text": [
      "До сортування: [4, 2, 7, 1, 9, 5]\n",
      "Після сортування: [1, 2, 4, 5, 7, 9]\n"
     ]
    }
   ],
   "source": [
    "def bubble_sort(lst):\n",
    "    n = len(lst)\n",
    "    for i in range(n-1):\n",
    "        for j in range(n-1-i):\n",
    "            if lst[j] > lst[j+1]:\n",
    "                lst[j], lst[j+1] = lst[j+1], lst[j]\n",
    "\n",
    "# Приклад використання:\n",
    "my_list = [4, 2, 7, 1, 9, 5]\n",
    "print(\"До сортування:\", my_list)\n",
    "\n",
    "bubble_sort(my_list)\n",
    "\n",
    "print(\"Після сортування:\", my_list)"
   ]
  },
  {
   "cell_type": "markdown",
   "id": "dc7faffe-09af-4f68-9f28-1d7d5a447ace",
   "metadata": {},
   "source": [
    "###  Завдання 3"
   ]
  },
  {
   "cell_type": "markdown",
   "id": "4b0b3591-f025-4c6e-afb9-4c0abba71ab3",
   "metadata": {},
   "source": [
    "Уявіть список - не дуже довгий, не дуже складний, просто звичайний список, що містить деякі цілі числа. Деякі з цих чисел можуть повторюватись, і це ключ до розгадки. Ми не хочемо повторень. Ми хочемо, щоб їх видалили.\n",
    "\n",
    "Ваше завдання – написати програму, яка видаляє всі дублікати чисел зі списку. Ціль полягає в тому, щоб скласти список, в якому всі числа зустрічаються не більше одного разу.\n",
    "\n",
    "__Примітка:__ припустимо, що вихідний список жорстко закодований всередині коду - Вам не потрібно вводити його з клавіатури. Звичайно, Ви можете покращити код і додати частину, яка може вести діалог з користувачем і отримувати від неї всі дані.\n",
    "\n",
    "__Підказка:__ ми рекомендуємо Вам створити новий список як тимчасову робочу область - вам не потрібно оновлювати список in situ.\n",
    "\n",
    "Ми не надали тестових даних, оскільки було б надто просто. Натомість ви можете використовувати наш скелет."
   ]
  },
  {
   "cell_type": "code",
   "execution_count": 13,
   "id": "d50d1d75-3bfe-4a84-86ed-908765b7916f",
   "metadata": {},
   "outputs": [
    {
     "name": "stdout",
     "output_type": "stream",
     "text": [
      "The list with unique elements only:\n",
      "[1, 2, 4, 4, 1, 4, 2, 6, 2, 9]\n"
     ]
    }
   ],
   "source": [
    "my_list = [1, 2, 4, 4, 1, 4, 2, 6, 2, 9]\n",
    "#\n",
    "# Write your code here.\n",
    "#\n",
    "print(\"The list with unique elements only:\")\n",
    "print(my_list)"
   ]
  },
  {
   "cell_type": "markdown",
   "id": "0634416e-200c-4802-b663-3c404bafca13",
   "metadata": {},
   "source": [
    "Приклад коду:"
   ]
  },
  {
   "cell_type": "code",
   "execution_count": 17,
   "id": "b9ed5195-864e-4b60-83f2-33fb2b27aee8",
   "metadata": {},
   "outputs": [
    {
     "name": "stdout",
     "output_type": "stream",
     "text": [
      "Список з унікальними елементами:\n",
      "[1, 2, 4, 6, 9]\n"
     ]
    }
   ],
   "source": [
    "my_list = [1, 2, 4, 4, 1, 4, 2, 6, 2, 9]\n",
    "\n",
    "# Створюємо новий список для зберігання унікальних елементів\n",
    "unique_list = []\n",
    "\n",
    "# Перебираємо елементи вихідного списку\n",
    "for num in my_list:\n",
    "    # Перевіряємо, чи елемент вже присутній у новому списку\n",
    "    if num not in unique_list:\n",
    "        # Якщо елементу немає, додаємо його до нового списку\n",
    "        unique_list.append(num)\n",
    "\n",
    "# Виводимо список з унікальними елементами\n",
    "print(\"Список з унікальними елементами:\")\n",
    "print(unique_list)"
   ]
  },
  {
   "cell_type": "markdown",
   "id": "6f573abf-2b27-4271-bc06-03aa8d48634b",
   "metadata": {},
   "source": [
    "### Завдання 4"
   ]
  },
  {
   "cell_type": "markdown",
   "id": "b7c684dc-6200-49c6-8b2d-82ea32341e60",
   "metadata": {},
   "source": [
    "Напишіть код, використоувуючи генератори списків, який створює матрицю 8х8 з пустими клітинками (пуста клітинка задається як \"_\") для задання шахівниці і розставте чотири тури по кутках шахівниці"
   ]
  },
  {
   "cell_type": "markdown",
   "id": "53a4ad7e-83a6-48c7-bf34-22bbf361f679",
   "metadata": {},
   "source": [
    "Приклад коду"
   ]
  },
  {
   "cell_type": "code",
   "execution_count": 18,
   "id": "9a134ba4-d6a1-462e-9522-2570d509afc7",
   "metadata": {},
   "outputs": [
    {
     "name": "stdout",
     "output_type": "stream",
     "text": [
      "R _ _ _ _ _ _ R\n",
      "_ _ _ _ _ _ _ _\n",
      "_ _ _ _ _ _ _ _\n",
      "_ _ _ _ _ _ _ _\n",
      "_ _ _ _ _ _ _ _\n",
      "_ _ _ _ _ _ _ _\n",
      "_ _ _ _ _ _ _ _\n",
      "R _ _ _ _ _ _ R\n"
     ]
    }
   ],
   "source": [
    "# Створення шахівниці 8х8 з пустими клітинками\n",
    "chessboard = [[\"_\"] * 8 for _ in range(8)]\n",
    "\n",
    "# Розстановка турів по кутках шахівниці\n",
    "chessboard[0][0] = \"R\"  # Ліва верхня клітинка\n",
    "chessboard[0][7] = \"R\"  # Права верхня клітинка\n",
    "chessboard[7][0] = \"R\"  # Ліва нижня клітинка\n",
    "chessboard[7][7] = \"R\"  # Права нижня клітинка\n",
    "\n",
    "# Виведення шахівниці\n",
    "for row in chessboard:\n",
    "    print(\" \".join(row))"
   ]
  },
  {
   "cell_type": "markdown",
   "id": "670a7e74-f6c1-4d4f-a6c9-609f37284b77",
   "metadata": {},
   "source": [
    "### Контрольні запитання"
   ]
  },
  {
   "attachments": {
    "bcbf5ad9-091a-450f-a774-7d0b792a727c.PNG": {
     "image/png": "[encoded data removed]"
    }
   },
   "cell_type": "markdown",
   "id": "a22bc3fe-458a-4b9b-9ac3-d6179ab16bb2",
   "metadata": {},
   "source": [
    "__1__ _Який вивод наступного фрагмента?_\n",
    "![image1.PNG](attachment:bcbf5ad9-091a-450f-a774-7d0b792a727c.PNG)"
   ]
  },
  {
   "cell_type": "markdown",
   "id": "1ad16923-bde7-4442-bb5b-d87d54e8d5d5",
   "metadata": {},
   "source": [
    "Вивод наступного фрагмента буде:\n",
    "\n",
    "_['C']_\n",
    "\n",
    "- Спочатку ми створюємо список `list_1` з елементами \"A\", \"B\", \"C\".\n",
    "- Потім ми присвоюємо `list_2` значення `list_1`, тобто обидва список вказують на ту саму область пам'яті.\n",
    "- Подібно до цього, ми присвоюємо `list_3` значення `list_2`, тобто і `list_3` також вказує на ту саму область пам'яті.\n",
    "- При виконанні команди `del list_1[0]` ми видаляємо перший елемент з `list_1`. Так як `list_2` і `list_3` також вказують на ту саму область пам'яті, зміна відбувається в усіх трьох списках.\n",
    "- Так само, команда `del list_2[0]` видаляє перший елемент з `list_2`. Знову ж таки, це впливає на `list_1` і `list_3`.\n",
    "- В результаті, коли ми виводимо `list_3`, ми отримуємо список `['C']`, оскільки обидва \"A\" і \"B\" були видалені зі списків `list_1`, `list_2`, і `list_3`."
   ]
  },
  {
   "attachments": {
    "be582ac8-2ca7-4de5-964f-abcac76809c9.PNG": {
     "image/png": "[encoded data removed]"
    }
   },
   "cell_type": "markdown",
   "id": "b72fa3ae-e764-4dc0-80ac-71a254be90ea",
   "metadata": {},
   "source": [
    "__2__ _Який вивод наступного фрагмента?_\n",
    "![image2.PNG](attachment:be582ac8-2ca7-4de5-964f-abcac76809c9.PNG)"
   ]
  },
  {
   "cell_type": "markdown",
   "id": "8e986743-6c90-42fe-8ced-b783d71b5dac",
   "metadata": {},
   "source": [
    "Вивод наступного фрагмента буде:\n",
    "    \n",
    "_['B', 'C']_\n",
    "\n",
    "- Спочатку ми створюємо список `list_1` з елементами \"A\", \"B\", \"C\".\n",
    "- Потім ми присвоюємо `list_2` значення `list_1`, тобто обидва списки вказують на ту саму область пам'яті.\n",
    "- Подібно до цього, ми присвоюємо `list_3` значення `list_2`, тобто і `list_3` також вказує на ту саму область пам'яті.\n",
    "- Команда `del list_1[0]` видаляє перший елемент з `list_1`, але це також впливає на `list_2` і `list_3`, оскільки всі вони вказують на одну і ту саму область пам'яті.\n",
    "- Потім ми виконуємо команду `del list_2`, яка видаляє змінну `list_2`. Проте це не впливає на `list_1` і `list_3`, вони все ще вказують на ту саму область пам'яті, де зберігаються елементи.\n",
    "- В результаті, коли ми виводимо `list_3`, ми отримуємо список `['B', 'C']`, оскільки \"A\" було видалено з `list_1`, а `list_3` все ще вказує на залишкові елементи."
   ]
  },
  {
   "attachments": {
    "cfd99b07-ab47-4831-986a-c95b7df56aa9.PNG": {
     "image/png": "[encoded data removed]"
    }
   },
   "cell_type": "markdown",
   "id": "8ec5aa31-2ad9-4d94-a0e8-c0d8a7dac669",
   "metadata": {},
   "source": [
    "__3__  _Який вивод наступного фрагмента?_\n",
    "![image3.PNG](attachment:cfd99b07-ab47-4831-986a-c95b7df56aa9.PNG)"
   ]
  },
  {
   "cell_type": "markdown",
   "id": "bd9add53-dadc-4dea-bf23-fe3ffbb59397",
   "metadata": {},
   "source": [
    "Вивод наступного фрагмента буде:\n",
    "    \n",
    "_[]_\n",
    "\n",
    "- Спочатку ми створюємо список `list_1` з елементами \"A\", \"B\", \"C\".\n",
    "- Потім ми присвоюємо `list_2` значення `list_1`, тобто обидва списки вказують на ту саму область пам'яті.\n",
    "- Подібно до цього, ми присвоюємо `list_3` значення `list_2`, тобто і `list_3` також вказує на ту саму область пам'яті.\n",
    "- Команда `del list_1[0]` видаляє перший елемент з `list_1`, але це також впливає на `list_2` і `list_3`, оскільки всі вони вказують на одну і ту саму область пам'яті.\n",
    "- Команда `del list_2[:]` видаляє всі елементи з `list_2`. Це означає, що всі елементи, що починаються з індексу 0 до кінця списку, будуть видалені.\n",
    "- Оскільки `list_2` і `list_3` вказують на одну і ту саму область пам'яті, виконання `del list_2[:]` також впливає на `list_3`.\n",
    "- В результаті, коли ми виводимо `list_3`, ми отримуємо порожній список `[]`, оскільки всі елементи були видалені зі списку."
   ]
  },
  {
   "attachments": {
    "52d1316a-6c74-46ff-91f4-79d078f53a96.PNG": {
     "image/png": "[encoded data removed]"
    }
   },
   "cell_type": "markdown",
   "id": "d5ad0417-e291-4e9b-a3da-f8279b9af024",
   "metadata": {},
   "source": [
    "__4__ _Який вивод наступного фрагмента?_\n",
    "![image4.PNG](attachment:52d1316a-6c74-46ff-91f4-79d078f53a96.PNG)"
   ]
  },
  {
   "cell_type": "markdown",
   "id": "f05ca905-ad3c-43e6-9530-45c5be4ecdf8",
   "metadata": {},
   "source": [
    "Вивод наступного фрагмента буде:\n",
    "\n",
    "_['A', 'B', 'C']_\n",
    "\n",
    "- Спочатку ми створюємо список `list_1` з елементами \"A\", \"B\", \"C\".\n",
    "- Щоб створити копію списку `list_1`, ми використовуємо синтаксис зрізу `list_1[:]` і присвоюємо його `list_2`. Це створює новий список, який містить ті ж самі елементи, але вказує на іншу область пам'яті.\n",
    "- Аналогічно, ми створюємо копію списку `list_2` і присвоюємо його `list_3`.\n",
    "- Після цього ми видаляємо перший елемент з `list_1` та `list_2`, але це не впливає на `list_3`, оскільки вони вказують на різні області пам'яті.\n",
    "- Тому, коли ми виводимо `list_3`, ми отримуємо список `['A', 'B', 'C']`, оскільки елементи не були видалені з цього списку."
   ]
  }
 ],
 "metadata": {
  "kernelspec": {
   "display_name": "Python 3 (ipykernel)",
   "language": "python",
   "name": "python3"
  },
  "language_info": {
   "codemirror_mode": {
    "name": "ipython",
    "version": 3
   },
   "file_extension": ".py",
   "mimetype": "text/x-python",
   "name": "python",
   "nbconvert_exporter": "python",
   "pygments_lexer": "ipython3",
   "version": "3.10.9"
  }
 },
 "nbformat": 4,
 "nbformat_minor": 5
}
