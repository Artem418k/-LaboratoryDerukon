{
 "cells": [
  {
   "cell_type": "markdown",
   "id": "3bac489f-2b19-4bbf-88f6-1529f7eb89f4",
   "metadata": {},
   "source": [
    "# Лабораторна робота №9. Рядки. Методи рядків і списків. Частина І"
   ]
  },
  {
   "cell_type": "markdown",
   "id": "03cd2ff6-9fa3-43cf-a10d-b1076724983d",
   "metadata": {},
   "source": [
    "__Мета:__ _навчитися обробляти рядки за допомогою спеціальних функцій і методів._"
   ]
  },
  {
   "cell_type": "markdown",
   "id": "059ec71d-164a-4adc-bdfb-4e28ca20360c",
   "metadata": {},
   "source": [
    "### Cамостiйна робота"
   ]
  },
  {
   "cell_type": "markdown",
   "id": "05718307-01c4-4050-a2f0-c1abad9a3c47",
   "metadata": {},
   "source": [
    "### Приклад 1"
   ]
  },
  {
   "cell_type": "markdown",
   "id": "e6783470-59ce-44b2-b162-ee365ba2b1b3",
   "metadata": {},
   "source": [
    "Написати власну функцію, яка працює практично так само, як оригінальний метод `split()`, а саме:\n",
    "\n",
    "* вона повинна приймати рівно один аргумент - рядок;\n",
    "* вона повинна повертати список слів, які можна створити з даного рядка, розділивши його пробілами;\n",
    "* якщо рядок порожній, функція повинна повертати порожній список;\n",
    "* ім'я функції `mysplit()`.\n",
    "* Використовуйте шаблон у редакторі. Добре протестуйте свій код. "
   ]
  },
  {
   "cell_type": "markdown",
   "id": "81dbf1a0-94ad-437c-b228-1fac70c36ae4",
   "metadata": {},
   "source": [
    "Приклад коду: "
   ]
  },
  {
   "cell_type": "code",
   "execution_count": 6,
   "id": "758b6849-4741-4ddc-a308-50072da59ee8",
   "metadata": {},
   "outputs": [
    {
     "name": "stdout",
     "output_type": "stream",
     "text": [
      "['To', 'be', 'or', 'not', 'to', 'be,', 'that', 'is', 'the', 'question']\n",
      "['To', 'be', 'or', 'not', 'to', 'be,that', 'is', 'the', 'question']\n",
      "[]\n",
      "['abc']\n",
      "[]\n"
     ]
    }
   ],
   "source": [
    "def mysplit(string):\n",
    "    string = string.strip() + ' '\n",
    "\n",
    "    list_split = []\n",
    "\n",
    "    if string.isspace() or string == \"\":\n",
    "        return list_split\n",
    "\n",
    "    if string.find(' ') == -1:\n",
    "        list_split.append(string)\n",
    "        return list_split\n",
    "\n",
    "    start = 0\n",
    "    end = string.find(' ')\n",
    "\n",
    "    while end != -1:\n",
    "        list_split.append(string[start:end])\n",
    "        start = end + 1\n",
    "        end = string.find(' ', start)\n",
    "\n",
    "    return list_split\n",
    "\n",
    "\n",
    "print(mysplit(\"To be or not to be, that is the question\"))\n",
    "print(mysplit(\"To be or not to be,that is the question\"))\n",
    "print(mysplit(\"   \"))\n",
    "print(mysplit(\" abc \"))\n",
    "print(mysplit(\"\"))"
   ]
  },
  {
   "cell_type": "markdown",
   "id": "74db7f04-3681-44b8-b176-a6da1b8973ce",
   "metadata": {},
   "source": [
    "### Приклад 2"
   ]
  },
  {
   "attachments": {
    "109c8ec3-29b0-4f1f-9910-0ce953e7ba98.PNG": {
     "image/png": "[encoded data removed]"
    }
   },
   "cell_type": "markdown",
   "id": "f9410f18-e559-44d0-b840-6d320565e6fe",
   "metadata": {},
   "source": [
    "Ви, дійсно, бачили семисегментний дисплей.\n",
    "\n",
    "Це пристрій (іноді електронний, іноді механічний), який призначений для відображення однієї десяткової цифри за допомогою підмножини з семи сегментів. Якщо ви все ще не знаєте, що це таке, зверніться до статті у Вікіпедії.\n",
    "\n",
    "Ваше завдання - написати програму, яка здатна імітувати роботу пристрою з семисегментним дисплеєм, хоча краще все ж таки використовувати окремі світлодіоди замість сегментів.\n",
    "\n",
    "Кожна цифра складається з 13 світлодіодів (дехто горять, дехто вимкнені) - ось як ми це уявляємо:\n",
    "\n",
    "![image1.PNG](attachment:109c8ec3-29b0-4f1f-9910-0ce953e7ba98.PNG)\n",
    "\n",
    "Примітка: цифра 8 показує всі світлодіоди, які включені.\n",
    "\n",
    "Ваш код повинен відображати будь-яке невід'ємне ціле число, введене користувачем.\n",
    "\n",
    "Порада. Використання списку з десятьма цифрами може бути дуже корисним."
   ]
  },
  {
   "cell_type": "markdown",
   "id": "58ea86c8-6e58-4b18-8700-037daab7f293",
   "metadata": {},
   "source": [
    "Приклад коду: "
   ]
  },
  {
   "cell_type": "code",
   "execution_count": null,
   "id": "ed34b8d5-151d-4202-afba-913cd41f54f2",
   "metadata": {},
   "outputs": [],
   "source": [
    "def display_digit(digit):\n",
    "    segments = [\n",
    "        ['###', '# #', '# #', '# #', '###'],  # 0\n",
    "        ['  #', '  #', '  #', '  #', '  #'],  # 1\n",
    "        ['###', '  #', '###', '#  ', '###'],  # 2\n",
    "        ['###', '  #', '###', '  #', '###'],  # 3\n",
    "        ['# #', '# #', '###', '  #', '  #'],  # 4\n",
    "        ['###', '#  ', '###', '  #', '###'],  # 5\n",
    "        ['###', '#  ', '###', '# #', '###'],  # 6\n",
    "        ['###', '  #', '  #', '  #', '  #'],  # 7\n",
    "        ['###', '# #', '###', '# #', '###'],  # 8\n",
    "        ['###', '# #', '###', '  #', '###']   # 9\n",
    "    ]\n",
    "\n",
    "    if digit < 0:\n",
    "        print(\"Введіть невід'ємне ціле число.\")\n",
    "        return\n",
    "\n",
    "    digits = list(str(digit))\n",
    "    for line in range(5):\n",
    "        for d in digits:\n",
    "            d = int(d)\n",
    "            print(segments[d][line], end=' ')\n",
    "        print()\n",
    "\n",
    "\n",
    "number = int(input(\"Введіть невід'ємне ціле число: \"))\n",
    "display_digit(number)"
   ]
  },
  {
   "cell_type": "markdown",
   "id": "a156cb97-1930-439b-aea2-78da96f4cba3",
   "metadata": {},
   "source": [
    "### Приклад 3"
   ]
  },
  {
   "cell_type": "markdown",
   "id": "43c9e239-a4aa-4603-81d7-3db4c77ceaab",
   "metadata": {},
   "source": [
    "__Шифр Цезаря__\n",
    "\n",
    "Цей шифр був (мабуть) винайдений і використаний Гаєм Юлієм Цезарем та його військами під час Галльських війн. Ідея досить проста - кожна буква повідомлення замінюється на найближчу наступну (_A_ стає _B_, _B_ стає _C_ тощо). Єдиним виключенням є буква _Z_, яка стає _A_.\n",
    "\n",
    "Напишіть __програму для шифрування поввідомлення__, використовуючи такі припущення:\n",
    "\n",
    "* вона приймає лише латинські літери (примітка: римляни не використовували пробіли, ні цифри);\n",
    "* всі літери повідомлення знаходяться у верхньому регістрі (примітка: римляни знали лише великі літери)."
   ]
  },
  {
   "cell_type": "markdown",
   "id": "f2f5e0cf-d1cb-45a8-9d0e-b605873f4bfa",
   "metadata": {},
   "source": [
    "Приклад коду: "
   ]
  },
  {
   "cell_type": "code",
   "execution_count": 13,
   "id": "5c47b766-c334-4537-a31a-9d16f43ec2f7",
   "metadata": {},
   "outputs": [
    {
     "name": "stdin",
     "output_type": "stream",
     "text": [
      "Введіть повідомлення:  I love You\n",
      "Введіть значення зсуву:  1\n"
     ]
    },
    {
     "name": "stdout",
     "output_type": "stream",
     "text": [
      "Зашифроване повідомлення: J mpwf Zpv\n"
     ]
    }
   ],
   "source": [
    "def caesar_cipher(message, shift):\n",
    "    encrypted_message = \"\"\n",
    "    for char in message:\n",
    "        if char.isalpha():\n",
    "            ascii_offset = ord('A') if char.isupper() else ord('a')\n",
    "            shifted_char = chr((ord(char) - ascii_offset + shift) % 26 + ascii_offset)\n",
    "            encrypted_message += shifted_char\n",
    "        else:\n",
    "            encrypted_message += char\n",
    "    return encrypted_message\n",
    "\n",
    "\n",
    "message = input(\"Введіть повідомлення: \")\n",
    "shift = int(input(\"Введіть значення зсуву: \"))\n",
    "\n",
    "encrypted_message = caesar_cipher(message, shift)\n",
    "print(\"Зашифроване повідомлення:\", encrypted_message)"
   ]
  },
  {
   "cell_type": "markdown",
   "id": "767f105f-e9bf-40d1-88d0-2fdd51619048",
   "metadata": {},
   "source": [
    "### Приклад 4"
   ]
  },
  {
   "cell_type": "markdown",
   "id": "5acf3ebf-7c6b-414e-93f9-aeec8613fc74",
   "metadata": {},
   "source": [
    "Напишить __програму для дешифрування повідомлення__, зашифрованого шифром Цезара."
   ]
  },
  {
   "cell_type": "markdown",
   "id": "7b119060-1e36-4b6a-9f4a-04346d666b31",
   "metadata": {},
   "source": [
    "Приклад коду: "
   ]
  },
  {
   "cell_type": "code",
   "execution_count": 14,
   "id": "71374cf9-81e6-4db6-ab4b-eef04e5076c6",
   "metadata": {},
   "outputs": [
    {
     "name": "stdin",
     "output_type": "stream",
     "text": [
      "Введіть зашифроване повідомлення:  J mpwf Zpv\n",
      "Введіть значення зсуву:  1\n"
     ]
    },
    {
     "name": "stdout",
     "output_type": "stream",
     "text": [
      "Дешифроване повідомлення: I love You\n"
     ]
    }
   ],
   "source": [
    "def caesar_decipher(encrypted_message, shift):\n",
    "    decrypted_message = \"\"\n",
    "    for char in encrypted_message:\n",
    "        if char.isalpha():\n",
    "            ascii_offset = ord('A') if char.isupper() else ord('a')\n",
    "            shifted_char = chr((ord(char) - ascii_offset - shift) % 26 + ascii_offset)\n",
    "            decrypted_message += shifted_char\n",
    "        else:\n",
    "            decrypted_message += char\n",
    "    return decrypted_message\n",
    "\n",
    "\n",
    "encrypted_message = input(\"Введіть зашифроване повідомлення: \")\n",
    "shift = int(input(\"Введіть значення зсуву: \"))\n",
    "\n",
    "decrypted_message = caesar_decipher(encrypted_message, shift)\n",
    "print(\"Дешифроване повідомлення:\", decrypted_message)"
   ]
  },
  {
   "cell_type": "markdown",
   "id": "ae09fd42-4eab-4ad2-81f6-c4f11fc408b1",
   "metadata": {},
   "source": [
    "### Завдання 1"
   ]
  },
  {
   "cell_type": "markdown",
   "id": "0e5f0b2e-72a9-4ca7-857c-6bdcfd3f7a2e",
   "metadata": {},
   "source": [
    "Ви вже знайомі з шифром Цезаря, і тому ми хочемо, щоб Ви покращили код, який ми нещодавно показували.\n",
    "\n",
    "Вихідний шифр Цезаря зрушує кожен символ однією: a стає b, z стає a, тощо. Давайте зробимо його трохи складнішим і дозволимо зміщеному значенню вийти з діапазону 1-25 включно.\n",
    "\n",
    "Крім того, нехай код зберігає регістр літер (малі літери залишаться малими), а всі неалфавітні символи повинні залишитися без змін.\n",
    "\n",
    "Ваше завдання - написати програму, яка:\n",
    "\n",
    "запитує у користувача рядок, який треба зашифрувати;\n",
    "запитує користувача значення зсуву (ціле число з діапазону 1-25 - примітка: Ви повинні змусити користувача ввести дійсне значення зсуву (не здавайтеся і не дозволяйте некоректним даним обдурити Вас);\n",
    "друкує закодований текст.\n",
    "Протестуйте свій код, використовуючи надані нами дані."
   ]
  },
  {
   "cell_type": "markdown",
   "id": "e3a0f6ca-d6d0-4cb3-91cd-07e77d1efa65",
   "metadata": {},
   "source": [
    "Приклад коду: "
   ]
  },
  {
   "cell_type": "code",
   "execution_count": null,
   "id": "a7224538-9fb7-40ab-91fb-1c2515ef8a55",
   "metadata": {},
   "outputs": [],
   "source": [
    "def caesar_cipher(text, shift):\n",
    "    encrypted_text = \"\"\n",
    "    for char in text:\n",
    "        if char.isalpha():\n",
    "            if char.islower():\n",
    "                start = ord('a')\n",
    "                end = ord('z')\n",
    "            else:\n",
    "                start = ord('A')\n",
    "                end = ord('Z')\n",
    "            shifted_char = chr((ord(char) - start + shift) % (end - start + 1) + start)\n",
    "            encrypted_text += shifted_char\n",
    "        else:\n",
    "            encrypted_text += char\n",
    "    return encrypted_text\n",
    "\n",
    "\n",
    "text = input(\"Введіть рядок для шифрування: \")\n",
    "shift = int(input(\"Введіть значення зсуву (1-25): \"))\n",
    "\n",
    "if shift < 1 or shift > 25:\n",
    "    print(\"Некоректне значення зсуву. Введіть число від 1 до 25.\")\n",
    "else:\n",
    "    encrypted_text = caesar_cipher(text, shift)\n",
    "    print(\"Закодований текст:\", encrypted_text)"
   ]
  },
  {
   "cell_type": "markdown",
   "id": "06c6f489-10aa-496a-851a-a5289b1b2547",
   "metadata": {},
   "source": [
    "### Контрольні запитання"
   ]
  },
  {
   "attachments": {
    "3ccbed26-9353-421e-830d-266068d95033.png": {
     "image/png": "[encoded data removed]"
    }
   },
   "cell_type": "markdown",
   "id": "7718cb90-e162-42d5-bb34-1dc88cb671ab",
   "metadata": {},
   "source": [
    "__1__ _Який із наступних рядків описує справжню умову?_\n",
    "\n",
    "![image2.png](attachment:3ccbed26-9353-421e-830d-266068d95033.png)\n",
    "\n",
    "Справжня умова з наступних рядків описується таким виразом:\n",
    "\n",
    "_'smith' > 'Smith'_\n",
    "\n",
    "У рядках, порівнюються символи за їхнім ASCII-кодом. У ASCII-кодуванні, символи великих літер передують символам малих літер. Тому, у даному випадку, рядок 'smith' буде більшим за рядок 'Smith'.\n"
   ]
  },
  {
   "attachments": {
    "663d3711-6603-4f0e-9e2f-7f37408a013a.png": {
     "image/png": "[encoded data removed]"
    }
   },
   "cell_type": "markdown",
   "id": "f2a74d08-84e1-4d20-80c7-0d9c556d5d9b",
   "metadata": {},
   "source": [
    "__2__ _Який очікуваний результат наступного коду?_\n",
    "\n",
    "![image3.png](attachment:663d3711-6603-4f0e-9e2f-7f37408a013a.png)\n",
    "\n",
    "Очікуваний результат:\n",
    "\n",
    "_are_\n",
    "\n",
    "\n"
   ]
  },
  {
   "attachments": {
    "1581e39b-76e4-4581-a9b7-8751b70a4708.png": {
     "image/png": "[encoded data removed]"
    }
   },
   "cell_type": "markdown",
   "id": "6dc7c580-1990-4594-94ce-6eeed31509d6",
   "metadata": {},
   "source": [
    "__3__ _Який очікуваний результат наступного коду?_\n",
    "\n",
    "![image4.png](attachment:1581e39b-76e4-4581-a9b7-8751b70a4708.png)\n",
    "\n",
    "Очікуваний результат:\n",
    "\n",
    "_False_\n",
    "\n",
    "Оскільки рядок `'12.8'` і ціле число `12` не рівні, ви отримаєте значення `False`"
   ]
  }
 ],
 "metadata": {
  "kernelspec": {
   "display_name": "Python 3 (ipykernel)",
   "language": "python",
   "name": "python3"
  },
  "language_info": {
   "codemirror_mode": {
    "name": "ipython",
    "version": 3
   },
   "file_extension": ".py",
   "mimetype": "text/x-python",
   "name": "python",
   "nbconvert_exporter": "python",
   "pygments_lexer": "ipython3",
   "version": "3.10.9"
  }
 },
 "nbformat": 4,
 "nbformat_minor": 5
}
