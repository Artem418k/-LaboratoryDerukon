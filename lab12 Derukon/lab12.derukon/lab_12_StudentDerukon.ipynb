{
 "cells": [
  {
   "cell_type": "markdown",
   "id": "2473938f-0e93-41ad-92af-1455676c86ef",
   "metadata": {},
   "source": [
    "# Лабораторна робота №12. Об’єктно-орієнтоване програмування. Частина ІІ"
   ]
  },
  {
   "cell_type": "markdown",
   "id": "8ce2196f-3c1c-4347-99ea-2b457741f65c",
   "metadata": {},
   "source": [
    "__Мета:__ _навчитися програмувати в стилі об'єектно-орієнтованого програмування._"
   ]
  },
  {
   "cell_type": "markdown",
   "id": "2424ebdd-8eff-499e-acd8-ec96346a9ee9",
   "metadata": {},
   "source": [
    "### Самостiйна робота"
   ]
  },
  {
   "cell_type": "markdown",
   "id": "5aca9c2d-aacd-4101-b2e0-a10cc5febd43",
   "metadata": {},
   "source": [
    "### Приклад 1\n",
    "\n",
    "Нам потрібен клас, що вміє рахувати секунди. Чи легко? Це не так просто, як Ви думаєте, оскільки ми матимемо певні вимоги.\n",
    "\n",
    "Прочитайте їх уважно, оскільки клас, який Ви пишете, використовуватиметься для запуску ракет, які виконують міжнародні місії на Марс. Це велика відповідальність. Ми розраховуємо на Вас!\n",
    "\n",
    "Ваш клас буде називатися `Timer`. Його конструктор приймає три аргументи, що представляють годинник (значення з діапазону [0..23] - ми будемо використовувати воєнний час), хвилини (з діапазону [0..59]) та секунди (з діапазону [0..59]).\n",
    "\n",
    "Нуль -- це значення за замовчанням всіх вищеперелічених параметрів. Немає необхідності виконувати будь-які перевірки.\n",
    "\n",
    "Сам клас має забезпечувати такі можливості:\n",
    "\n",
    "* об'єкти класу повинні бути \"друкованими\", тобто вони повинні мати можливість неявно перетворювати себе на рядки наступного виду: \"чч:мм:сс\" з додаванням провідних нулів, коли будь-яке з значень менше 10;\n",
    "* клас повинен бути оснащений методами без параметрів, званими next_second() і previous_second(), що збільшують час, що зберігається всередині об'єктів, на +1/-1 секунд відповідно.\n",
    "\n",
    "Використовуйте такі підказки:\n",
    "\n",
    "* всі властивості об'єкта мають бути закритими;\n",
    "* розгляньте можливість написання окремої функції (не методу!) для форматування рядка часу.\n",
    "\n",
    "Доповніть шаблон, який ми надали в редакторі. Запустіть свій код і перевірте, чи виглядає результат так само, як наш."
   ]
  },
  {
   "cell_type": "markdown",
   "id": "6824d82b-3e01-45fc-9598-839e91948759",
   "metadata": {},
   "source": [
    "Очікуваний вивід:  \n",
    "\n",
    "`23:59:59`  \n",
    "`00:00:00`  \n",
    "`23:59:59  `  "
   ]
  },
  {
   "cell_type": "code",
   "execution_count": 9,
   "id": "f1e57a75-9525-4b42-9053-28114214b99a",
   "metadata": {},
   "outputs": [],
   "source": [
    "# class Timer:\n",
    "#     def __init__( ??? ):\n",
    "#         #\n",
    "#         # Напишите здесь код.\n",
    "#         #\n",
    "\n",
    "#     def __str__(self):\n",
    "#         #\n",
    "#         # Напишите здесь код.\n",
    "#         #\n",
    "\n",
    "#     def next_second(self):\n",
    "#         #\n",
    "#         # Напишите здесь код.\n",
    "#         #\n",
    "\n",
    "#     def prev_second(self):\n",
    "#         #\n",
    "#         # Напишите здесь код.\n",
    "#         #\n",
    "\n",
    "\n",
    "# timer = Timer(23, 59, 59)\n",
    "# print(timer)\n",
    "# timer.next_second()\n",
    "# print(timer)\n",
    "# timer.prev_second()\n",
    "# print(timer)"
   ]
  },
  {
   "cell_type": "markdown",
   "id": "c1fe6d20-3819-460c-b51d-8693d68151fd",
   "metadata": {},
   "source": [
    "Приклад коду:"
   ]
  },
  {
   "cell_type": "code",
   "execution_count": 10,
   "id": "19c31036-2e48-4f35-927b-8f8535b205c0",
   "metadata": {},
   "outputs": [
    {
     "name": "stdout",
     "output_type": "stream",
     "text": [
      "23:59:59\n",
      "00:00:00\n",
      "23:59:59\n"
     ]
    }
   ],
   "source": [
    "class Timer:\n",
    "    def __init__(self, hour=0, minute=0, second=0):\n",
    "        self._hour = hour\n",
    "        self._minute = minute\n",
    "        self._second = second\n",
    "\n",
    "    def __str__(self):\n",
    "        return f\"{self._format_number(self._hour)}:{self._format_number(self._minute)}:{self._format_number(self._second)}\"\n",
    "\n",
    "    def next_second(self):\n",
    "        self._second += 1\n",
    "        if self._second >= 60:\n",
    "            self._second = 0\n",
    "            self._minute += 1\n",
    "            if self._minute >= 60:\n",
    "                self._minute = 0\n",
    "                self._hour += 1\n",
    "                if self._hour >= 24:\n",
    "                    self._hour = 0\n",
    "\n",
    "    def prev_second(self):\n",
    "        self._second -= 1\n",
    "        if self._second < 0:\n",
    "            self._second = 59\n",
    "            self._minute -= 1\n",
    "            if self._minute < 0:\n",
    "                self._minute = 59\n",
    "                self._hour -= 1\n",
    "                if self._hour < 0:\n",
    "                    self._hour = 23\n",
    "\n",
    "    def _format_number(self, number):\n",
    "        if number < 10:\n",
    "            return f\"0{number}\"\n",
    "        return str(number)\n",
    "\n",
    "\n",
    "timer = Timer(23, 59, 59)\n",
    "print(timer)\n",
    "timer.next_second()\n",
    "print(timer)\n",
    "timer.prev_second()\n",
    "print(timer)"
   ]
  },
  {
   "cell_type": "markdown",
   "id": "ac0545e2-a0b4-432e-96db-ab0bd89b805d",
   "metadata": {},
   "source": [
    "### Приклад 2\n",
    "\n",
    "Ваше завдання – реалізувати клас під назвою `Weeker`. Так, Ваші очі не обманюють Вас -- ця назва походить від того факту, що об'єкти цього класу можуть зберігати та керувати днями тижня.\n",
    "\n",
    "Конструктор класу приймає один аргумент – рядок. Рядок є назвою дня тижня, і єдині допустимі значення повинні надходити з наступного набору:\n",
    "\n",
    "`Mon Tue Wed Thu Fri Sat Sun`\n",
    "\n",
    "Виклик конструктора з аргументом ззовні цього набору повинен викликати виняток `WeekDayError` (визначте його самостійно; не турбуйтеся, скоро ми поговоримо про об'єктивну природу винятків). Клас повинен надати такі можливості:\n",
    "\n",
    "об'єкти класу мають бути \"друкованими\", тобто. вони повинні мати можливість неявно перетворювати себе на рядки тієї ж форми, що й аргументи конструктора;\n",
    "клас повинен бути оснащений однопараметричними методами з іменами `add_days(n)` і `subtract_days(n)`, де __n__ є цілим числом число та оновлення дня тижня, що зберігається всередині об'єкта, таким чином, щоб відобразити зміну дати на вказану кількість днів уперед або назад.\n",
    "всі властивості об'єкта мають бути прихованими;\n",
    "Заповніть шаблон, який ми надали в редакторі, запустіть свій код і перевірте, чи виглядає Ваш результат так само, як наш.\n",
    "\n",
    "Очікуваний вивід: \n",
    "\n",
    "`Mon`  \n",
    "`Thu`  \n",
    "`Sun`  \n",
    "`Sorry, I can't serve your request.  `"
   ]
  },
  {
   "cell_type": "code",
   "execution_count": 11,
   "id": "f074efa8-cabd-4bf5-91f0-636e16eb889c",
   "metadata": {},
   "outputs": [],
   "source": [
    "# class WeekDayError(Exception):\n",
    "#     pass\n",
    "\t\n",
    "\n",
    "# class Weeker:\n",
    "#     #\n",
    "#     # Напишите здесь код.\n",
    "#     #\n",
    "\n",
    "#     def __init__(self, day):\n",
    "#         #\n",
    "#         # Напишите здесь код.\n",
    "#         #\n",
    "\n",
    "#     def __str__(self):\n",
    "#         #\n",
    "#         # Напишите здесь код.\n",
    "#         #\n",
    "\n",
    "#     def add_days(self, n):\n",
    "#         #\n",
    "#         # Напишите здесь код.\n",
    "#         #\n",
    "\n",
    "#     def subtract_days(self, n):\n",
    "#         #\n",
    "#         # Напишите здесь код.\n",
    "#         #\n",
    "\n",
    "\n",
    "# try:\n",
    "#     weekday = Weeker('Mon')\n",
    "#     print(weekday)\n",
    "#     weekday.add_days(15)\n",
    "#     print(weekday)\n",
    "#     weekday.subtract_days(23)\n",
    "#     print(weekday)\n",
    "#     weekday = Weeker('Monday')\n",
    "# except WeekDayError:\n",
    "#     print(\"Sorry, I can't serve your request.\")"
   ]
  },
  {
   "cell_type": "markdown",
   "id": "60616e37-89f6-4cc4-89b3-675dbe8e447f",
   "metadata": {},
   "source": [
    "Приклад коду:\n"
   ]
  },
  {
   "cell_type": "code",
   "execution_count": 12,
   "id": "48e94fe3-738b-4108-a814-233b55c42d51",
   "metadata": {},
   "outputs": [
    {
     "name": "stdout",
     "output_type": "stream",
     "text": [
      "Mon\n",
      "Tue\n",
      "Sun\n",
      "Sorry, I can't serve your request.\n"
     ]
    }
   ],
   "source": [
    "class WeekDayError(Exception):\n",
    "    pass\n",
    "\n",
    "class Weeker:\n",
    "    _days_of_week = ['Mon', 'Tue', 'Wed', 'Thu', 'Fri', 'Sat', 'Sun']\n",
    "\n",
    "    def __init__(self, day):\n",
    "        if day not in self._days_of_week:\n",
    "            raise WeekDayError\n",
    "        self._day = day\n",
    "\n",
    "    def __str__(self):\n",
    "        return self._day\n",
    "\n",
    "    def add_days(self, n):\n",
    "        index = self._days_of_week.index(self._day)\n",
    "        index = (index + n) % 7\n",
    "        self._day = self._days_of_week[index]\n",
    "\n",
    "    def subtract_days(self, n):\n",
    "        index = self._days_of_week.index(self._day)\n",
    "        index = (index - n) % 7\n",
    "        self._day = self._days_of_week[index]\n",
    "\n",
    "try:\n",
    "    weekday = Weeker('Mon')\n",
    "    print(weekday)\n",
    "    weekday.add_days(15)\n",
    "    print(weekday)\n",
    "    weekday.subtract_days(23)\n",
    "    print(weekday)\n",
    "    weekday = Weeker('Monday')\n",
    "except WeekDayError:\n",
    "    print(\"Sorry, I can't serve your request.\")"
   ]
  },
  {
   "cell_type": "markdown",
   "id": "df67fe5a-d381-4dcb-9e73-170a0c00a379",
   "metadata": {},
   "source": [
    "### Приклад 3"
   ]
  },
  {
   "cell_type": "markdown",
   "id": "93632cd0-60b7-4b8a-a7e5-f41f1d69a4fa",
   "metadata": {},
   "source": [
    "Давайте відвідаємо зовсім особливе місце – площину з декартовою системою координат (Ви можете дізнатися більше про цю концепцію тут: [Декартова система координат)]\n",
    "                                                                                    \n",
    "Кожну точку, розташовану на площині, можна описати як пару координат, яку зазвичай називають $x$ і $y$. Ми хочемо, щоб Ви написали клас Python, який зберігає обидві координати як числа з плаваючою комою. Більше того, ми хочемо, щоб об'єкти цього класу вважали відстані між будь-якою з двох точок, розташованих на площині.\n",
    "\n",
    "Завдання досить просте, якщо Ви скористаєтеся функцією з ім'ям `hypot()` (доступна в модулі `math`), яка вважає довжину гіпотенузи прямокутного трикутника (докладніше тут: [Гіпотенуза]\n",
    "\n",
    "Ось як ми уявляємо собі клас:\n",
    "\n",
    "* він називається `Point`;\n",
    "* його конструктор приймає два аргументи (x і y відповідно), обидва з яких за умовчанням дорівнюють нулю;\n",
    "* всі властивості мають бути прихованими;\n",
    "* клас містить два методи без параметрів, названі `getx()` та `gety()`, які повертають кожну з двох координат (координати зберігаються приховано, тому вони не можуть бути доступні безпосередньо з об'єкта);\n",
    "* клас надає метод під назвою `distance_from_xy(x, y)`, який обчислює та повертає відстань між точкою, що зберігається всередині об'єкта, та іншою точкою, заданою як пара пунктів;\n",
    "* клас надає метод під назвою `distance_from_point(point)`, який обчислює відстань (як у попередньому методі), але місце розташування іншої точки задається як інший об'єкт класу `Point`;\n",
    "\n",
    "Доповніть шаблон, який ми надали в редакторі, запустіть свій код і перевірте, чи виглядає Ваш результат так само, як наш.\n",
    "\n",
    "Очікуваний вивід: \n",
    "\n",
    "`1.4142135623730951`  \n",
    "`1.4142135623730951`"
   ]
  },
  {
   "cell_type": "code",
   "execution_count": 13,
   "id": "9d43ced3-7c87-4df7-a037-cb7f745b1e64",
   "metadata": {},
   "outputs": [],
   "source": [
    "# import math\n",
    "\n",
    "\n",
    "# class Point:\n",
    "#     def __init__(self, x=0.0, y=0.0):\n",
    "#         #\n",
    "#         # Напишите здесь код.\n",
    "#         #\n",
    "\n",
    "#     def getx(self):\n",
    "#         #\n",
    "#         # Напишите здесь код.\n",
    "#         #\n",
    "\n",
    "#     def gety(self):\n",
    "#         #\n",
    "#         # Напишите здесь код.\n",
    "#         #\n",
    "\n",
    "#     def distance_from_xy(self, x, y):\n",
    "#         #\n",
    "#         # Напишите здесь код.\n",
    "#         #\n",
    "\n",
    "#     def distance_from_point(self, point):\n",
    "#         #\n",
    "#         # Напишите здесь код.\n",
    "#         #\n",
    "\n",
    "\n",
    "# point1 = Point(0, 0)\n",
    "# point2 = Point(1, 1)\n",
    "# print(point1.distance_from_point(point2))\n",
    "# print(point2.distance_from_xy(2, 0))"
   ]
  },
  {
   "cell_type": "markdown",
   "id": "d28a6866-d2eb-4d76-baa4-652758f8e7a3",
   "metadata": {},
   "source": [
    "Приклад коду:"
   ]
  },
  {
   "cell_type": "code",
   "execution_count": 16,
   "id": "d36ce614-6f48-4795-bfb0-d1273ebfba69",
   "metadata": {},
   "outputs": [
    {
     "name": "stdout",
     "output_type": "stream",
     "text": [
      "1.4142135623730951\n",
      "1.4142135623730951\n"
     ]
    }
   ],
   "source": [
    "import math\n",
    "\n",
    "class Point:\n",
    "    def __init__(self, x=0.0, y=0.0):\n",
    "        self._x = x\n",
    "        self._y = y\n",
    "\n",
    "    def getx(self):\n",
    "        return self._x\n",
    "\n",
    "    def gety(self):\n",
    "        return self._y\n",
    "\n",
    "    def distance_from_xy(self, x, y):\n",
    "        return math.hypot(self._x - x, self._y - y)\n",
    "\n",
    "    def distance_from_point(self, point):\n",
    "        return self.distance_from_xy(point.getx(), point.gety())\n",
    "\n",
    "point1 = Point(0, 0)\n",
    "point2 = Point(1, 1)\n",
    "print(point1.distance_from_point(point2))\n",
    "print(point2.distance_from_xy(2, 0))"
   ]
  },
  {
   "cell_type": "markdown",
   "id": "be6c4c79-5ee8-4d24-97d3-957ff081cebc",
   "metadata": {},
   "source": [
    "### Завдання 1"
   ]
  },
  {
   "cell_type": "markdown",
   "id": "de79ab0b-3154-4aac-bc3d-5002e46f1d1b",
   "metadata": {},
   "source": [
    "Тепер ми збираємося вбудувати клас `Point` (див. попереднє завдання) в інший клас. Крім того, ми збираємося помістити три точки в один клас, що дозволить нам визначити трикутник. Як ми можемо це зробити?\n",
    "\n",
    "Новий клас буде називатися `Triangle`, і ось, що нам потрібно:\n",
    "\n",
    "* конструктор приймає три аргументи -- вони є об'єктами класу `Point`;\n",
    "* точки зберігаються всередині об'єкта як список;\n",
    "* клас надає метод без параметрів з назвою `perimeter()`, який обчислює периметр трикутника, описаного трьома точками; периметр – це сума довжин усіх сторін (це просто нагадування, хоча ми впевнені, що Ви самі це чудово знаєте).\n",
    "\n",
    "Доповніть шаблон, який ми надали в редакторі. Запустіть свій код і перевірте, чи збігається оцінюваний периметр з нашим.\n",
    "\n",
    "Нижче Ви можете скопіювати код класу `Point`, який ми використовували у попередній лабораторній роботі:"
   ]
  },
  {
   "cell_type": "code",
   "execution_count": 17,
   "id": "6b6b4b46-d0ab-4ead-8b5c-601ec0763e53",
   "metadata": {},
   "outputs": [],
   "source": [
    "# import math\n",
    "\n",
    "\n",
    "# class Point:\n",
    "#     #\n",
    "#     # Код скопирован из предыдущей лабораторной работы.\n",
    "#     #\n",
    "\n",
    "\n",
    "# class Triangle:\n",
    "#     def __init__(self, vertice1, vertice2, vertice3):\n",
    "#         #\n",
    "#         # Напишите здесь код\n",
    "#         #\n",
    "\n",
    "#     def perimeter(self):\n",
    "#         #\n",
    "#         # Напишите здесь код\n",
    "#         #\n",
    "\n",
    "\n",
    "# triangle = Triangle(Point(0, 0), Point(1, 0), Point(0, 1))\n",
    "# print(triangle.perimeter())"
   ]
  },
  {
   "cell_type": "markdown",
   "id": "49879e41-91c0-4162-9524-05bc2c947738",
   "metadata": {},
   "source": [
    "Приклад коду:"
   ]
  },
  {
   "cell_type": "code",
   "execution_count": 20,
   "id": "861cec40-4565-4a66-aaab-5f803a0201d6",
   "metadata": {},
   "outputs": [
    {
     "name": "stdout",
     "output_type": "stream",
     "text": [
      "3.414213562373095\n"
     ]
    }
   ],
   "source": [
    "import math\n",
    "\n",
    "class Point:\n",
    "    def __init__(self, x=0.0, y=0.0):\n",
    "        self.__x = x\n",
    "        self.__y = y\n",
    "\n",
    "    def getx(self):\n",
    "        return self.__x\n",
    "\n",
    "    def gety(self):\n",
    "        return self.__y\n",
    "\n",
    "    def distance_from_xy(self, x, y):\n",
    "        return math.hypot(self.__x - x, self.__y - y)\n",
    "\n",
    "    def distance_from_point(self, point):\n",
    "        return self.distance_from_xy(point.getx(), point.gety())\n",
    "\n",
    "\n",
    "class Triangle:\n",
    "    def __init__(self, vertice1, vertice2, vertice3):\n",
    "        self.__vertices = [vertice1, vertice2, vertice3]\n",
    "\n",
    "    def perimeter(self):\n",
    "        side1 = self.__vertices[0].distance_from_point(self.__vertices[1])\n",
    "        side2 = self.__vertices[1].distance_from_point(self.__vertices[2])\n",
    "        side3 = self.__vertices[2].distance_from_point(self.__vertices[0])\n",
    "        return side1 + side2 + side3\n",
    "\n",
    "\n",
    "triangle = Triangle(Point(0, 0), Point(1, 0), Point(0, 1))\n",
    "print(triangle.perimeter())"
   ]
  },
  {
   "cell_type": "markdown",
   "id": "9d679eb6-f79d-4736-a932-ed7fe039f74d",
   "metadata": {},
   "source": [
    "### Контрольні запитання"
   ]
  },
  {
   "cell_type": "markdown",
   "id": "473a574f-0be4-454f-81d9-2e666ec5ace1",
   "metadata": {},
   "source": [
    "Припустимо, що наступний фрагмент коду успішно виконано:"
   ]
  },
  {
   "cell_type": "code",
   "execution_count": 21,
   "id": "c6af1934-aff6-4bd0-8027-589b7b2f96f6",
   "metadata": {},
   "outputs": [],
   "source": [
    "class Dog: \n",
    "    kennel = 0 \n",
    "    def __init__(self, breed): \n",
    "        self.breed = breed \n",
    "        Dog.kennel += 1 \n",
    "\n",
    "    def __str__(self): \n",
    "        return self.breed + \" says: Woof!\" \n",
    "\n",
    "\n",
    "class SheepDog(Dog): \n",
    "    def __str__(self): \n",
    "        return super().__str__() + \" Don't run away, Little Lamb!\" \n",
    "\n",
    "\n",
    "class GuardDog(Dog): \n",
    "     def __str__(self): \n",
    "         return super().__str__() + \" Stay where you are, Mister Intruder!\" \n",
    "\n",
    "rocky = SheepDog(\"Collie\") \n",
    "luna = GuardDog(\"Dobermann\") "
   ]
  },
  {
   "cell_type": "markdown",
   "id": "76d75b90-df87-42b1-9693-d7f6ac4aa49f",
   "metadata": {},
   "source": [
    "__1__ _Який очікуваний вивід наступного фрагмента коду?_\n",
    "\n",
    "`print(rocky)`  \n",
    "`print(luna)`\n",
    "\n",
    "Очікуваний вивід наступного фрагмента коду буде:\n",
    "\n",
    "`print(rocky)`\n",
    "Вивід: \"Collie says: Woof! Don't run away, Little Lamb!\"\n",
    "\n",
    "`print(luna)`\n",
    "Вивід: \"Dobermann says: Woof! Stay where you are, Mister Intruder!\"\n",
    "\n",
    "У цьому фрагменті коду використовується успадкування класів. Класи `SheepDog` та `GuardDog` успадковують властивості та методи від базового класу `Dog`. Перевизначені методи `__str__()` у підкласах `SheepDog` та `GuardDog` додають додаткові повідомлення до рядка, який повертається базовим методом `__str__()` класу `Dog`."
   ]
  },
  {
   "cell_type": "markdown",
   "id": "9111a93f-c061-4d06-af36-4f561a4da14f",
   "metadata": {},
   "source": [
    "__2__ _Який очікуваний вивід наступного фрагмента коду?_\n",
    "\n",
    "`print(issubclass(SheepDog, Dog), issubclass(SheepDog, GuardDog))`   \n",
    "`print(isinstance(rocky, GuardDog), isinstance(luna, GuardDog))`\n",
    "\n",
    "Очікуваний вивід наступного фрагмента коду буде:\n",
    "\n",
    "`print(issubclass(SheepDog, Dog), issubclass(SheepDog, GuardDog))`\n",
    "Вивід: `True False`\n",
    "\n",
    "Функція `issubclass(class, classinfo)` перевіряє, чи є перший аргумент (`class`) підкласом другого аргумента (`classinfo`). У цьому випадку `SheepDog` є підкласом `Dog`, тому результат першого виклику `issubclass(SheepDog, Dog)` буде `True`. Однак, `SheepDog` не є підкласом `GuardDog`, тому результат другого виклику `issubclass(SheepDog, GuardDog)` буде `False`.\n",
    "\n",
    "`print(isinstance(rocky, GuardDog), isinstance(luna, GuardDog))`\n",
    "Вивід: `False True`\n",
    "\n",
    "Функція `isinstance(object, classinfo)` перевіряє, чи є об'єкт (`object`) екземпляром класу, який передається як другий аргумент (`classinfo`). Об'єкт `rocky` є екземпляром класу `SheepDog`, але не є екземпляром класу `GuardDog`, тому результат першого виклику `isinstance(rocky, GuardDog)` буде `False`. З іншого боку, об'єкт `luna` є екземпляром класу `GuardDog`, тому результат другого виклику `isinstance(luna, GuardDog)` буде `True`."
   ]
  }
 ],
 "metadata": {
  "kernelspec": {
   "display_name": "Python 3 (ipykernel)",
   "language": "python",
   "name": "python3"
  },
  "language_info": {
   "codemirror_mode": {
    "name": "ipython",
    "version": 3
   },
   "file_extension": ".py",
   "mimetype": "text/x-python",
   "name": "python",
   "nbconvert_exporter": "python",
   "pygments_lexer": "ipython3",
   "version": "3.10.9"
  }
 },
 "nbformat": 4,
 "nbformat_minor": 5
}
