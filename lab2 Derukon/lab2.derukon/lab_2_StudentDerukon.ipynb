{
 "cells": [
  {
   "cell_type": "markdown",
   "id": "dd90473f-1020-4103-8952-2a3dea57480c",
   "metadata": {},
   "source": [
    "# Лабораторна робота №2. Функція `print()`"
   ]
  },
  {
   "cell_type": "markdown",
   "id": "45eec050-ca56-4ec8-aa94-85f798287ab7",
   "metadata": {},
   "source": [
    "__Мета:__ _навчитися писати і запускати найпростіші програми на Python з використанням функції `print()`_"
   ]
  },
  {
   "cell_type": "markdown",
   "id": "769d1ec7-5f5d-40a3-b751-5687abb76cf8",
   "metadata": {},
   "source": [
    "__Cамостiйна Робота__"
   ]
  },
  {
   "cell_type": "markdown",
   "id": "0decac3d-6060-45bb-a20e-ef9efb5a2a3f",
   "metadata": {},
   "source": [
    "__1__ _Змінити код програми, щоби очикуваний результат виглядав наступним чином:_"
   ]
  },
  {
   "cell_type": "code",
   "execution_count": 4,
   "id": "6fbb58d7-8dc5-46fc-b01b-f9a081260062",
   "metadata": {},
   "outputs": [
    {
     "name": "stdout",
     "output_type": "stream",
     "text": [
      "Programming***Essentials***in...Python\n"
     ]
    }
   ],
   "source": [
    "a1 = \"Programming\"\n",
    "a2 = \"Essentials\"\n",
    "a3 = \"in...Python\"\n",
    "result = a1 + \"***\" + a2 + \"***\" + a3\n",
    "print(result)"
   ]
  },
  {
   "cell_type": "markdown",
   "id": "6c77c453-0a29-4f89-b760-9198090cb966",
   "metadata": {},
   "source": [
    "__2__ _Написати програму, яка виводила б на екран наступну картинку:_ "
   ]
  },
  {
   "cell_type": "code",
   "execution_count": 5,
   "id": "0a050e78-43d7-46ed-b19d-dc89cd539c3a",
   "metadata": {},
   "outputs": [
    {
     "name": "stdout",
     "output_type": "stream",
     "text": [
      "         *\n",
      "        * *\n",
      "       *   *\n",
      "      *     *\n",
      "     ***   ***\n",
      "       *   *\n",
      "       *   *\n",
      "       *****\n"
     ]
    }
   ],
   "source": [
    "print(\"         *\\n        * *\\n       *   *\\n      *     *\\n     ***   ***\\n       *   *\\n       *   *\\n       *****\")"
   ]
  },
  {
   "cell_type": "markdown",
   "id": "1796a6fc-580a-451b-9234-621f8ea1f9a5",
   "metadata": {},
   "source": [
    "__3__ _Вивести на екран наступний рядок:_"
   ]
  },
  {
   "cell_type": "code",
   "execution_count": 9,
   "id": "d4b2695c-3fee-4a94-8d8d-bd841ec5de77",
   "metadata": {},
   "outputs": [
    {
     "name": "stdout",
     "output_type": "stream",
     "text": [
      "I'm student\n"
     ]
    }
   ],
   "source": [
    "print(\"I'm student\")"
   ]
  },
  {
   "cell_type": "markdown",
   "id": "8a5e469b-2e66-498b-b270-992d0e02a975",
   "metadata": {},
   "source": [
    "__4__ _Написати фрагмент кода в один рядок, використовуючи функцію `print()`, а також символи нового рядка та esсape-символи, щоби відповідати очикуваному результату, виведеному у трьох рядках:_"
   ]
  },
  {
   "cell_type": "code",
   "execution_count": 10,
   "id": "353c2c5d-f85c-4ec7-9c58-c5070644867a",
   "metadata": {},
   "outputs": [
    {
     "name": "stdout",
     "output_type": "stream",
     "text": [
      "\"I'm\"\n",
      "\"\"learning\"\"\n",
      "\"\"\"Python\"\"\"\n"
     ]
    }
   ],
   "source": [
    "print(\"\\\"I'm\\\"\\n\\\"\\\"learning\\\"\\\"\\n\\\"\\\"\\\"Python\\\"\\\"\\\"\")"
   ]
  },
  {
   "cell_type": "markdown",
   "id": "6634f9bb-4ec6-4f76-860c-81dbe98f46e8",
   "metadata": {},
   "source": [
    "__5__ _Чому в десятковій системі дорівнює $500_8$? Написати код на Python._"
   ]
  },
  {
   "cell_type": "code",
   "execution_count": 11,
   "id": "eacd2961-9840-445d-b1f2-074cf6dfa9f1",
   "metadata": {},
   "outputs": [
    {
     "name": "stdout",
     "output_type": "stream",
     "text": [
      "320\n"
     ]
    }
   ],
   "source": [
    "print(0o500)"
   ]
  },
  {
   "cell_type": "markdown",
   "id": "289f7e6b-b9db-4d31-be9f-fcfad6c1c5e9",
   "metadata": {},
   "source": [
    "__6__ _Чому в десятковій системі дорівнює $777_{16}$? Написати код на Python._"
   ]
  },
  {
   "cell_type": "code",
   "execution_count": 12,
   "id": "5b937ed4-c026-4dfd-b2ae-054fb504e32e",
   "metadata": {},
   "outputs": [
    {
     "name": "stdout",
     "output_type": "stream",
     "text": [
      "1911\n"
     ]
    }
   ],
   "source": [
    "print(0x777)"
   ]
  },
  {
   "cell_type": "markdown",
   "id": "a5609498-0a9e-4dd0-ba4e-2aa5e6885a4a",
   "metadata": {},
   "source": [
    "### Контрольні запитання"
   ]
  },
  {
   "cell_type": "markdown",
   "id": "bb00122a-a2d8-4903-a782-46a688478295",
   "metadata": {},
   "source": [
    "__1__ _Записати ієрархію операторів._"
   ]
  },
  {
   "cell_type": "markdown",
   "id": "b15cbab0-d602-42d4-bc45-c3715f0209b0",
   "metadata": {},
   "source": [
    "_Ієрархія операторів в Python відображає пріоритети виконання операторів у виразах. Нижче наведена загальна ієрархія операторів, відсортована від найвищого пріоритету до найнижчого:_\n",
    "   - `**` (піднесення до степеня)\n",
    "   - `*`, `/`, `//`, `%` (множення, ділення, цілочисельне ділення, залишок від ділення)\n",
    "   - `+`, `-` (додавання, віднімання)\n",
    "   - `<<`, `>>` (зсув вліво, зсув вправо)\n",
    "   - `&` (логічне І)\n",
    "   - `^` (логічне XOR)\n",
    "   - `|` (логічне АБО)\n",
    "   - `==`, `!=`, `>`, `<`, `>=`, `<=` (оператори порівняння)\n",
    "   - `not` (логічне НЕ)\n",
    "   - `and` (логічне І)\n",
    "   - `or` (логічне АБО)"
   ]
  },
  {
   "cell_type": "markdown",
   "id": "6c0b42f5-babb-411f-be20-f891e99512c0",
   "metadata": {},
   "source": [
    "__2__ _Записти на Python обчислення виразу $3^{3^4}$_"
   ]
  },
  {
   "cell_type": "code",
   "execution_count": 13,
   "id": "3fed7377-a113-4300-a539-7ac63536211a",
   "metadata": {},
   "outputs": [
    {
     "name": "stdout",
     "output_type": "stream",
     "text": [
      "443426488243037769948249630619149892803\n"
     ]
    }
   ],
   "source": [
    "result = 3 ** (3 ** 4)\n",
    "print(result)"
   ]
  },
  {
   "cell_type": "markdown",
   "id": "16529949-f7fe-4f24-a95a-f1dd1e9e4b9a",
   "metadata": {},
   "source": [
    "__3__ _Що робить escape-символ \\n при виводі на екран функцією `print()`?_\n",
    "\n",
    "_Escape-символ `\\n` при виводі на екран функцією `print()` вказує на символ нового рядка. При зустрічі цього символу, курсор переходить на новий рядок, тобто наступний текст буде виведений на наступному рядку. Наприклад:_"
   ]
  },
  {
   "cell_type": "code",
   "execution_count": 15,
   "id": "61d673a3-aaa2-40eb-ad1b-0304a1ea57d2",
   "metadata": {},
   "outputs": [
    {
     "name": "stdout",
     "output_type": "stream",
     "text": [
      "Рядок 1\n",
      "Рядок 2\n"
     ]
    }
   ],
   "source": [
    "print(\"Рядок 1\")\n",
    "print(\"Рядок 2\")"
   ]
  }
 ],
 "metadata": {
  "kernelspec": {
   "display_name": "Python 3 (ipykernel)",
   "language": "python",
   "name": "python3"
  },
  "language_info": {
   "codemirror_mode": {
    "name": "ipython",
    "version": 3
   },
   "file_extension": ".py",
   "mimetype": "text/x-python",
   "name": "python",
   "nbconvert_exporter": "python",
   "pygments_lexer": "ipython3",
   "version": "3.10.9"
  }
 },
 "nbformat": 4,
 "nbformat_minor": 5
}
